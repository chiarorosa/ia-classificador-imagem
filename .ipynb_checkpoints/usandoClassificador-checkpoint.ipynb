{
 "cells": [
  {
   "cell_type": "code",
   "execution_count": 1,
   "metadata": {},
   "outputs": [],
   "source": [
    "import os\n",
    "import tensorflow as tf\n",
    "from tensorflow.keras.preprocessing import image\n",
    "import numpy as np"
   ]
  },
  {
   "cell_type": "code",
   "execution_count": 2,
   "metadata": {},
   "outputs": [
    {
     "name": "stdout",
     "output_type": "stream",
     "text": [
      "1/1 [==============================] - 0s 94ms/step\n"
     ]
    }
   ],
   "source": [
    "# Carregue o modelo treinado\n",
    "model = tf.keras.models.load_model('./models/cfModeloArthurSabino.h5')\n",
    "\n",
    "# Carregue uma nova imagem para classificação\n",
    "new_image_path = './test/teste_gato_1.jpg'  # Substitua 'nova_imagem.jpg' pelo nome da sua nova imagem\n",
    "\n",
    "# Pré-processe a nova imagem\n",
    "img = image.load_img(new_image_path, target_size=(150, 150))\n",
    "img = image.img_to_array(img)\n",
    "img = np.expand_dims(img, axis=0)\n",
    "img = img / 255.0  # Normalize a imagem (igual ao pré-processamento durante o treinamento)\n",
    "\n",
    "# Faça a previsão usando o modelo carregado\n",
    "prediction = model.predict(img)"
   ]
  },
  {
   "cell_type": "code",
   "execution_count": 3,
   "metadata": {},
   "outputs": [
    {
     "name": "stdout",
     "output_type": "stream",
     "text": [
      "78.67\n",
      "Classe 1, um gato\n"
     ]
    }
   ],
   "source": [
    "# Classifique a previsão\n",
    "print(f'%.2f' % (prediction * 100))\n",
    "\n",
    "if prediction < 0.5:\n",
    "    print(\"Classe 0, uma chuteiraFutsal\")  # Defina a classe correspondente\n",
    "else:\n",
    "    print(\"Classe 1, uma chuteiraCampo\")  # Defina a classe correspondente\n"
   ]
  },
  {
   "cell_type": "code",
   "execution_count": 5,
   "metadata": {},
   "outputs": [
    {
     "name": "stdout",
     "output_type": "stream",
     "text": [
      "girafa.jpeg\n",
      "1/1 [==============================] - 0s 19ms/step\n",
      "Classe 0, um porco\n",
      "0.33\n",
      "\n",
      "teste_gato_1.jpg\n",
      "1/1 [==============================] - 0s 21ms/step\n",
      "Classe 1, um gato\n",
      "0.79\n",
      "\n",
      "teste_gato_2.jpg\n",
      "1/1 [==============================] - 0s 19ms/step\n",
      "Classe 1, um gato\n",
      "0.69\n",
      "\n",
      "teste_gato_3_gen.jpeg\n",
      "1/1 [==============================] - 0s 19ms/step\n",
      "Classe 1, um gato\n",
      "0.97\n",
      "\n",
      "teste_porco_1.jpg\n",
      "1/1 [==============================] - 0s 20ms/step\n",
      "Classe 0, um porco\n",
      "0.00\n",
      "\n",
      "teste_porco_2.jpg\n",
      "1/1 [==============================] - 0s 20ms/step\n",
      "Classe 0, um porco\n",
      "0.00\n",
      "\n",
      "teste_porco_3_gen.jpeg\n",
      "1/1 [==============================] - 0s 25ms/step\n",
      "Classe 0, um porco\n",
      "0.00\n",
      "\n"
     ]
    }
   ],
   "source": [
    "# Diretório de imagens de teste\n",
    "test_directory = './test'  # Substitua 'data/test' pelo caminho para a pasta de teste\n",
    "\n",
    "# Percorra todas as imagens na pasta de teste\n",
    "for filename in os.listdir(test_directory):\n",
    "    if filename.endswith(\".jpg\") or filename.endswith(\".jpeg\"):\n",
    "        print(filename)\n",
    "        # Caminho completo para a imagem de teste\n",
    "        image_path = os.path.join(test_directory, filename)\n",
    "\n",
    "        # Pré-processe a imagem de teste\n",
    "        img = image.load_img(image_path, target_size=(150, 150))\n",
    "        img = image.img_to_array(img)\n",
    "        img = np.expand_dims(img, axis=0)\n",
    "        img = img / 255.0  # Normalize a imagem (igual ao pré-processamento durante o treinamento)\n",
    "\n",
    "        # Faça a previsão usando o modelo carregado\n",
    "        prediction = model.predict(img)\n",
    "\n",
    "        if prediction < 0.5:\n",
    "            print(\"Classe 0, um chuteiraFutsal\")  # Defina a classe correspondente\n",
    "        else:\n",
    "            print(\"Classe 1, um chuteiraCampo\")  # Defina a classe correspondente\n",
    "                # Classifique a previsão\n",
    "        print(f'%.2f\\n' % (prediction))"
   ]
  }
 ],
 "metadata": {
  "kernelspec": {
   "display_name": "Python 3 (ipykernel)",
   "language": "python",
   "name": "python3"
  },
  "language_info": {
   "codemirror_mode": {
    "name": "ipython",
    "version": 3
   },
   "file_extension": ".py",
   "mimetype": "text/x-python",
   "name": "python",
   "nbconvert_exporter": "python",
   "pygments_lexer": "ipython3",
   "version": "3.11.5"
  }
 },
 "nbformat": 4,
 "nbformat_minor": 2
}
