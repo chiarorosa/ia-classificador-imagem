{
 "cells": [
  {
   "cell_type": "code",
   "execution_count": 3,
   "metadata": {},
   "outputs": [],
   "source": [
    "import os\n",
    "import tensorflow as tf\n",
    "from tensorflow.keras.preprocessing import image\n",
    "import numpy as np"
   ]
  },
  {
   "cell_type": "code",
   "execution_count": 8,
   "metadata": {},
   "outputs": [
    {
     "name": "stdout",
     "output_type": "stream",
     "text": [
      "1/1 [==============================] - 0s 141ms/step\n"
     ]
    }
   ],
   "source": [
    "model = tf.keras.models.load_model('model_aula.h5')\n",
    "\n",
    "new_image_patch = './test/teste_moto.jpeg'\n",
    "\n",
    "img = image.load_img(new_image_patch, target_size=(150, 150))\n",
    "img = image.img_to_array(img)\n",
    "img = np.expand_dims(img, axis=0)\n",
    "img /= 255.\n",
    "\n",
    "prediction = model.predict(img)"
   ]
  },
  {
   "cell_type": "code",
   "execution_count": 6,
   "metadata": {},
   "outputs": [
    {
     "name": "stdout",
     "output_type": "stream",
     "text": [
      "0.9851290.9851290.9851290.9851290.9851290.9851290.9851290.9851290.9851290.9851290.9851290.9851290.9851290.9851290.9851290.9851290.9851290.9851290.9851290.9851290.9851290.9851290.9851290.9851290.9851290.9851290.9851290.9851290.9851290.9851290.9851290.9851290.9851290.9851290.9851290.9851290.9851290.9851290.9851290.9851290.9851290.9851290.9851290.9851290.9851290.9851290.9851290.9851290.9851290.9851290.9851290.9851290.9851290.9851290.9851290.9851290.9851290.9851290.9851290.9851290.9851290.9851290.9851290.9851290.9851290.9851290.9851290.9851290.9851290.9851290.9851290.9851290.9851290.9851290.9851290.9851290.9851290.9851290.9851290.9851290.9851290.9851290.9851290.9851290.9851290.9851290.9851290.9851290.9851290.9851290.9851290.9851290.9851290.9851290.9851290.9851290.9851290.9851290.9851290.985129\n",
      "É uma moto\n"
     ]
    }
   ],
   "source": [
    "prediction_scalar = prediction.item()\n",
    "\n",
    "print(f'%2f' % prediction_scalar * 100)\n",
    "\n",
    "if prediction_scalar < 0.5:\n",
    "    print('É um Carro')\n",
    "else:\n",
    "    print('É uma moto')"
   ]
  }
 ],
 "metadata": {
  "kernelspec": {
   "display_name": "base",
   "language": "python",
   "name": "python3"
  },
  "language_info": {
   "codemirror_mode": {
    "name": "ipython",
    "version": 3
   },
   "file_extension": ".py",
   "mimetype": "text/x-python",
   "name": "python",
   "nbconvert_exporter": "python",
   "pygments_lexer": "ipython3",
   "version": "3.11.4"
  }
 },
 "nbformat": 4,
 "nbformat_minor": 2
}
