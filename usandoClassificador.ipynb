{
 "cells": [
  {
   "cell_type": "code",
   "execution_count": 5,
   "metadata": {},
   "outputs": [],
   "source": [
    "import os\n",
    "import tensorflow as tf\n",
    "from tensorflow.keras.preprocessing import image\n",
    "import numpy as np"
   ]
  },
  {
   "cell_type": "code",
   "execution_count": 6,
   "metadata": {},
   "outputs": [
    {
     "ename": "UnidentifiedImageError",
     "evalue": "cannot identify image file <_io.BytesIO object at 0x2879b81d0>",
     "output_type": "error",
     "traceback": [
      "\u001b[0;31m---------------------------------------------------------------------------\u001b[0m",
      "\u001b[0;31mUnidentifiedImageError\u001b[0m                    Traceback (most recent call last)",
      "Cell \u001b[0;32mIn[6], line 8\u001b[0m\n\u001b[1;32m      5\u001b[0m new_image_path \u001b[38;5;241m=\u001b[39m \u001b[38;5;124m'\u001b[39m\u001b[38;5;124m./test/1.avif\u001b[39m\u001b[38;5;124m'\u001b[39m  \u001b[38;5;66;03m# Substitua 'nova_imagem.jpg' pelo nome da sua nova imagem\u001b[39;00m\n\u001b[1;32m      7\u001b[0m \u001b[38;5;66;03m# Pré-processe a nova imagem\u001b[39;00m\n\u001b[0;32m----> 8\u001b[0m img \u001b[38;5;241m=\u001b[39m image\u001b[38;5;241m.\u001b[39mload_img(new_image_path, target_size\u001b[38;5;241m=\u001b[39m(\u001b[38;5;241m150\u001b[39m, \u001b[38;5;241m150\u001b[39m))\n\u001b[1;32m      9\u001b[0m img \u001b[38;5;241m=\u001b[39m image\u001b[38;5;241m.\u001b[39mimg_to_array(img)\n\u001b[1;32m     10\u001b[0m img \u001b[38;5;241m=\u001b[39m np\u001b[38;5;241m.\u001b[39mexpand_dims(img, axis\u001b[38;5;241m=\u001b[39m\u001b[38;5;241m0\u001b[39m)\n",
      "File \u001b[0;32m~/anaconda3/lib/python3.11/site-packages/keras/src/utils/image_utils.py:423\u001b[0m, in \u001b[0;36mload_img\u001b[0;34m(path, grayscale, color_mode, target_size, interpolation, keep_aspect_ratio)\u001b[0m\n\u001b[1;32m    421\u001b[0m         path \u001b[38;5;241m=\u001b[39m \u001b[38;5;28mstr\u001b[39m(path\u001b[38;5;241m.\u001b[39mresolve())\n\u001b[1;32m    422\u001b[0m     \u001b[38;5;28;01mwith\u001b[39;00m \u001b[38;5;28mopen\u001b[39m(path, \u001b[38;5;124m\"\u001b[39m\u001b[38;5;124mrb\u001b[39m\u001b[38;5;124m\"\u001b[39m) \u001b[38;5;28;01mas\u001b[39;00m f:\n\u001b[0;32m--> 423\u001b[0m         img \u001b[38;5;241m=\u001b[39m pil_image\u001b[38;5;241m.\u001b[39mopen(io\u001b[38;5;241m.\u001b[39mBytesIO(f\u001b[38;5;241m.\u001b[39mread()))\n\u001b[1;32m    424\u001b[0m \u001b[38;5;28;01melse\u001b[39;00m:\n\u001b[1;32m    425\u001b[0m     \u001b[38;5;28;01mraise\u001b[39;00m \u001b[38;5;167;01mTypeError\u001b[39;00m(\n\u001b[1;32m    426\u001b[0m         \u001b[38;5;124mf\u001b[39m\u001b[38;5;124m\"\u001b[39m\u001b[38;5;124mpath should be path-like or io.BytesIO, not \u001b[39m\u001b[38;5;132;01m{\u001b[39;00m\u001b[38;5;28mtype\u001b[39m(path)\u001b[38;5;132;01m}\u001b[39;00m\u001b[38;5;124m\"\u001b[39m\n\u001b[1;32m    427\u001b[0m     )\n",
      "File \u001b[0;32m~/anaconda3/lib/python3.11/site-packages/PIL/Image.py:3283\u001b[0m, in \u001b[0;36mopen\u001b[0;34m(fp, mode, formats)\u001b[0m\n\u001b[1;32m   3281\u001b[0m     warnings\u001b[38;5;241m.\u001b[39mwarn(message)\n\u001b[1;32m   3282\u001b[0m msg \u001b[38;5;241m=\u001b[39m \u001b[38;5;124m\"\u001b[39m\u001b[38;5;124mcannot identify image file \u001b[39m\u001b[38;5;132;01m%r\u001b[39;00m\u001b[38;5;124m\"\u001b[39m \u001b[38;5;241m%\u001b[39m (filename \u001b[38;5;28;01mif\u001b[39;00m filename \u001b[38;5;28;01melse\u001b[39;00m fp)\n\u001b[0;32m-> 3283\u001b[0m \u001b[38;5;28;01mraise\u001b[39;00m UnidentifiedImageError(msg)\n",
      "\u001b[0;31mUnidentifiedImageError\u001b[0m: cannot identify image file <_io.BytesIO object at 0x2879b81d0>"
     ]
    }
   ],
   "source": [
    "# Carregue o modelo treinado\n",
    "model = tf.keras.models.load_model('./models/cfModeloArthurSabino.h5')\n",
    "\n",
    "# Carregue uma nova imagem para classificação\n",
    "new_image_path = './test/1.avif'  # Substitua 'nova_imagem.jpg' pelo nome da sua nova imagem\n",
    "\n",
    "# Pré-processe a nova imagem\n",
    "img = image.load_img(new_image_path, target_size=(150, 150))\n",
    "img = image.img_to_array(img)\n",
    "img = np.expand_dims(img, axis=0)\n",
    "img = img / 255.0  # Normalize a imagem (igual ao pré-processamento durante o treinamento)\n",
    "\n",
    "# Faça a previsão usando o modelo carregado\n",
    "prediction = model.predict(img)"
   ]
  },
  {
   "cell_type": "code",
   "execution_count": 3,
   "metadata": {},
   "outputs": [
    {
     "name": "stdout",
     "output_type": "stream",
     "text": [
      "3.99\n",
      "Classe 0, uma chuteiraFutsal\n"
     ]
    }
   ],
   "source": [
    "# Classifique a previsão\n",
    "print(f'%.2f' % (prediction * 100))\n",
    "\n",
    "if prediction < 0.5:\n",
    "    print(\"Classe 0, uma chuteiraFutsal\")  # Defina a classe correspondente\n",
    "else:\n",
    "    print(\"Classe 1, uma chuteiraCampo\")  # Defina a classe correspondente\n"
   ]
  },
  {
   "cell_type": "code",
   "execution_count": 4,
   "metadata": {},
   "outputs": [
    {
     "name": "stdout",
     "output_type": "stream",
     "text": [
      "001_Chuteira adidas Infantil Predator 20 3 Salão Jr Branco_Dourado.jpg\n",
      "1/1 [==============================] - 0s 14ms/step\n",
      "Classe 0, um chuteiraFutsal\n",
      "0.04\n",
      "\n"
     ]
    }
   ],
   "source": [
    "# Diretório de imagens de teste\n",
    "test_directory = './test'  # Substitua 'data/test' pelo caminho para a pasta de teste\n",
    "\n",
    "# Percorra todas as imagens na pasta de teste\n",
    "for filename in os.listdir(test_directory):\n",
    "    if filename.endswith(\".avif\") or filename.endswith(\".avif\"):\n",
    "        print(filename)\n",
    "        # Caminho completo para a imagem de teste\n",
    "        image_path = os.path.join(test_directory, filename)\n",
    "\n",
    "        # Pré-processe a imagem de teste\n",
    "        img = image.load_img(image_path, target_size=(150, 150))\n",
    "        img = image.img_to_array(img)\n",
    "        img = np.expand_dims(img, axis=0)\n",
    "        img = img / 255.0  # Normalize a imagem (igual ao pré-processamento durante o treinamento)\n",
    "\n",
    "        # Faça a previsão usando o modelo carregado\n",
    "        prediction = model.predict(img)\n",
    "\n",
    "        if prediction < 0.5:\n",
    "            print(\"Classe 0, um chuteiraFutsal\")  # Defina a classe correspondente\n",
    "        else:\n",
    "            print(\"Classe 1, um chuteiraCampo\")  # Defina a classe correspondente\n",
    "                # Classifique a previsão\n",
    "        print(f'%.2f\\n' % (prediction))"
   ]
  },
  {
   "cell_type": "code",
   "execution_count": null,
   "metadata": {},
   "outputs": [],
   "source": []
  },
  {
   "cell_type": "code",
   "execution_count": null,
   "metadata": {},
   "outputs": [],
   "source": []
  }
 ],
 "metadata": {
  "kernelspec": {
   "display_name": "Python 3 (ipykernel)",
   "language": "python",
   "name": "python3"
  },
  "language_info": {
   "codemirror_mode": {
    "name": "ipython",
    "version": 3
   },
   "file_extension": ".py",
   "mimetype": "text/x-python",
   "name": "python",
   "nbconvert_exporter": "python",
   "pygments_lexer": "ipython3",
   "version": "3.11.5"
  }
 },
 "nbformat": 4,
 "nbformat_minor": 2
}
