{
 "cells": [
  {
   "cell_type": "code",
   "execution_count": 29,
   "metadata": {},
   "outputs": [],
   "source": [
    "import os\n",
    "import tensorflow as tf\n",
    "from tensorflow.keras.preprocessing import image\n",
    "import numpy as np"
   ]
  },
  {
   "cell_type": "code",
   "execution_count": 40,
   "metadata": {},
   "outputs": [
    {
     "name": "stdout",
     "output_type": "stream",
     "text": [
      "1/1 [==============================] - 0s 85ms/step\n"
     ]
    }
   ],
   "source": [
    "# carregue o modelo treinado\n",
    "model = tf.keras.models.load_model('./models/cfModeloGersonRamos.h5')\n",
    "\n",
    "# carregue uma nova imagem para classificação\n",
    "new_image_path = './test/Labrador1.jpeg'\n",
    "\n",
    "# pré-processe a nova imagem\n",
    "img = image.load_img(new_image_path, target_size=(150, 150))\n",
    "img = image.img_to_array(img)\n",
    "img = np.expand_dims(img, axis=0)\n",
    "img = img / 255.0 # normalize a imgaem (igual ao pré-processamento durante o treinamento)\n",
    "\n",
    "# faça a previsão usando o modelo carregado\n",
    "prediction = model.predict(img)"
   ]
  },
  {
   "cell_type": "code",
   "execution_count": 41,
   "metadata": {},
   "outputs": [
    {
     "name": "stdout",
     "output_type": "stream",
     "text": [
      "99.91\n",
      "Classe 1, um Labrador\n"
     ]
    },
    {
     "name": "stderr",
     "output_type": "stream",
     "text": [
      "C:\\Users\\Gerson\\AppData\\Local\\Temp\\ipykernel_16008\\550286335.py:2: DeprecationWarning: Conversion of an array with ndim > 0 to a scalar is deprecated, and will error in future. Ensure you extract a single element from your array before performing this operation. (Deprecated NumPy 1.25.)\n",
      "  print(f'%.2f' % (prediction * 100))\n"
     ]
    }
   ],
   "source": [
    "# classifique a previsão\n",
    "print(f'%.2f' % (prediction * 100))\n",
    "\n",
    "if prediction < 0.5:\n",
    "    print(\"Classe 0, um Golden\") \n",
    "else: \n",
    "    print(\"Classe 1, um Labrador\")"
   ]
  }
 ],
 "metadata": {
  "kernelspec": {
   "display_name": "base",
   "language": "python",
   "name": "python3"
  },
  "language_info": {
   "codemirror_mode": {
    "name": "ipython",
    "version": 3
   },
   "file_extension": ".py",
   "mimetype": "text/x-python",
   "name": "python",
   "nbconvert_exporter": "python",
   "pygments_lexer": "ipython3",
   "version": "3.10.2"
  }
 },
 "nbformat": 4,
 "nbformat_minor": 2
}
