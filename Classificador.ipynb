{
 "cells": [
  {
   "cell_type": "code",
   "execution_count": 33,
   "metadata": {},
   "outputs": [],
   "source": [
    "import tensorflow as tf\n",
    "import scipy, numpy\n",
    "from tensorflow.keras.preprocessing.image import ImageDataGenerator\n",
    "from tensorflow.keras.models import Sequential\n",
    "from tensorflow.keras.layers import Conv2D, MaxPooling2D, Flatten, Dense, Dropout"
   ]
  },
  {
   "cell_type": "code",
   "execution_count": 23,
   "metadata": {},
   "outputs": [],
   "source": [
    "train_data_dir = 'data'\n",
    "batch_size = 32\n",
    "num_epochs = 50\n",
    "image_size = (150, 150)\n",
    "num_classes = 2"
   ]
  },
  {
   "cell_type": "code",
   "execution_count": 24,
   "metadata": {},
   "outputs": [],
   "source": [
    "train_datagen = ImageDataGenerator(\n",
    "    rescale=1./255,\n",
    "    validation_split=0.25,\n",
    "    shear_range=0.2,\n",
    "    zoom_range=0.2,\n",
    "    horizontal_flip=True\n",
    ")"
   ]
  },
  {
   "cell_type": "code",
   "execution_count": 25,
   "metadata": {},
   "outputs": [
    {
     "name": "stdout",
     "output_type": "stream",
     "text": [
      "Found 13 images belonging to 2 classes.\n"
     ]
    }
   ],
   "source": [
    "train_generator = train_datagen.flow_from_directory(\n",
    "    train_data_dir,\n",
    "    target_size=image_size,\n",
    "    batch_size=batch_size,\n",
    "    class_mode='binary',\n",
    "    subset='training'\n",
    ")"
   ]
  },
  {
   "cell_type": "code",
   "execution_count": 26,
   "metadata": {},
   "outputs": [
    {
     "name": "stdout",
     "output_type": "stream",
     "text": [
      "Found 3 images belonging to 2 classes.\n"
     ]
    }
   ],
   "source": [
    "validation_generator = train_datagen.flow_from_directory(\n",
    "    train_data_dir,\n",
    "    target_size=image_size,\n",
    "    batch_size=batch_size,\n",
    "    class_mode='binary',\n",
    "    subset='validation'\n",
    ")"
   ]
  },
  {
   "cell_type": "code",
   "execution_count": 16,
   "metadata": {},
   "outputs": [],
   "source": [
    "model = Sequential()\n",
    "model.add(Conv2D(32, (3, 3), input_shape=(image_size[0], image_size[1], 3), activation='relu'))\n",
    "model.add(MaxPooling2D(pool_size=(2, 2)))\n",
    "model.add(Conv2D(64, (3, 3), activation='relu'))\n",
    "model.add(MaxPooling2D(pool_size=(2, 2)))\n",
    "model.add(Flatten())\n",
    "model.add(Dense(64, activation='relu'))\n",
    "model.add(Dropout(rate=0.5))\n",
    "model.add(Dense(1, activation='sigmoid'))"
   ]
  },
  {
   "cell_type": "code",
   "execution_count": 19,
   "metadata": {},
   "outputs": [],
   "source": [
    "model.compile(\n",
    "    optimizer='adam',\n",
    "    loss='binary_crossentropy',\n",
    "    metrics=['accuracy']\n",
    ")   "
   ]
  },
  {
   "cell_type": "code",
   "execution_count": 34,
   "metadata": {},
   "outputs": [
    {
     "name": "stderr",
     "output_type": "stream",
     "text": [
      "C:\\Users\\windows\\AppData\\Local\\Temp\\ipykernel_3652\\556141449.py:1: UserWarning: `Model.fit_generator` is deprecated and will be removed in a future version. Please use `Model.fit`, which supports generators.\n",
      "  model.fit_generator(\n"
     ]
    },
    {
     "name": "stdout",
     "output_type": "stream",
     "text": [
      "Epoch 1/50\n",
      "1/1 [==============================] - 6s 6s/step - loss: 0.0573 - accuracy: 1.0000 - val_loss: 0.7342 - val_accuracy: 0.3333\n",
      "Epoch 2/50\n",
      "1/1 [==============================] - 6s 6s/step - loss: 0.0442 - accuracy: 1.0000 - val_loss: 0.6544 - val_accuracy: 0.6667\n",
      "Epoch 3/50\n",
      "1/1 [==============================] - 6s 6s/step - loss: 0.0485 - accuracy: 1.0000 - val_loss: 0.8835 - val_accuracy: 0.6667\n",
      "Epoch 4/50\n",
      "1/1 [==============================] - 6s 6s/step - loss: 0.0512 - accuracy: 1.0000 - val_loss: 1.0344 - val_accuracy: 0.6667\n",
      "Epoch 5/50\n",
      "1/1 [==============================] - 6s 6s/step - loss: 0.0718 - accuracy: 1.0000 - val_loss: 1.5173 - val_accuracy: 0.3333\n",
      "Epoch 6/50\n",
      "1/1 [==============================] - 6s 6s/step - loss: 0.0155 - accuracy: 1.0000 - val_loss: 1.9002 - val_accuracy: 0.3333\n",
      "Epoch 7/50\n",
      "1/1 [==============================] - 6s 6s/step - loss: 0.0171 - accuracy: 1.0000 - val_loss: 0.3999 - val_accuracy: 0.6667\n",
      "Epoch 8/50\n",
      "1/1 [==============================] - 5s 5s/step - loss: 0.0233 - accuracy: 1.0000 - val_loss: 2.0341 - val_accuracy: 0.3333\n",
      "Epoch 9/50\n",
      "1/1 [==============================] - 6s 6s/step - loss: 0.0366 - accuracy: 1.0000 - val_loss: 0.8837 - val_accuracy: 0.3333\n",
      "Epoch 10/50\n",
      "1/1 [==============================] - 6s 6s/step - loss: 0.0137 - accuracy: 1.0000 - val_loss: 1.8196 - val_accuracy: 0.3333\n",
      "Epoch 11/50\n",
      "1/1 [==============================] - 6s 6s/step - loss: 0.0028 - accuracy: 1.0000 - val_loss: 1.1142 - val_accuracy: 0.3333\n",
      "Epoch 12/50\n",
      "1/1 [==============================] - 6s 6s/step - loss: 0.0584 - accuracy: 1.0000 - val_loss: 0.2690 - val_accuracy: 0.6667\n",
      "Epoch 13/50\n",
      "1/1 [==============================] - 6s 6s/step - loss: 0.3080 - accuracy: 0.9231 - val_loss: 1.9188 - val_accuracy: 0.3333\n",
      "Epoch 14/50\n",
      "1/1 [==============================] - 6s 6s/step - loss: 0.2002 - accuracy: 0.9231 - val_loss: 0.3745 - val_accuracy: 0.6667\n",
      "Epoch 15/50\n",
      "1/1 [==============================] - 5s 5s/step - loss: 0.0077 - accuracy: 1.0000 - val_loss: 0.7033 - val_accuracy: 0.6667\n",
      "Epoch 16/50\n",
      "1/1 [==============================] - 6s 6s/step - loss: 0.2096 - accuracy: 0.9231 - val_loss: 0.7968 - val_accuracy: 0.3333\n",
      "Epoch 17/50\n",
      "1/1 [==============================] - 5s 5s/step - loss: 0.0535 - accuracy: 1.0000 - val_loss: 0.5665 - val_accuracy: 0.6667\n",
      "Epoch 18/50\n",
      "1/1 [==============================] - 6s 6s/step - loss: 0.0116 - accuracy: 1.0000 - val_loss: 0.3990 - val_accuracy: 0.6667\n",
      "Epoch 19/50\n",
      "1/1 [==============================] - 5s 5s/step - loss: 0.0186 - accuracy: 1.0000 - val_loss: 1.4815 - val_accuracy: 0.6667\n",
      "Epoch 20/50\n",
      "1/1 [==============================] - 6s 6s/step - loss: 0.1098 - accuracy: 0.9231 - val_loss: 1.0575 - val_accuracy: 0.6667\n",
      "Epoch 21/50\n",
      "1/1 [==============================] - 5s 5s/step - loss: 0.0299 - accuracy: 1.0000 - val_loss: 1.2417 - val_accuracy: 0.6667\n",
      "Epoch 22/50\n",
      "1/1 [==============================] - 6s 6s/step - loss: 0.0170 - accuracy: 1.0000 - val_loss: 0.4342 - val_accuracy: 0.6667\n",
      "Epoch 23/50\n",
      "1/1 [==============================] - 5s 5s/step - loss: 0.0707 - accuracy: 1.0000 - val_loss: 0.4067 - val_accuracy: 1.0000\n",
      "Epoch 24/50\n",
      "1/1 [==============================] - 6s 6s/step - loss: 0.0236 - accuracy: 1.0000 - val_loss: 0.7916 - val_accuracy: 0.6667\n",
      "Epoch 25/50\n",
      "1/1 [==============================] - 5s 5s/step - loss: 0.0516 - accuracy: 1.0000 - val_loss: 0.7980 - val_accuracy: 0.6667\n",
      "Epoch 26/50\n",
      "1/1 [==============================] - 5s 5s/step - loss: 0.0460 - accuracy: 1.0000 - val_loss: 0.3842 - val_accuracy: 0.6667\n",
      "Epoch 27/50\n",
      "1/1 [==============================] - 6s 6s/step - loss: 0.0220 - accuracy: 1.0000 - val_loss: 0.1973 - val_accuracy: 1.0000\n",
      "Epoch 28/50\n",
      "1/1 [==============================] - 6s 6s/step - loss: 0.0216 - accuracy: 1.0000 - val_loss: 0.5941 - val_accuracy: 0.6667\n",
      "Epoch 29/50\n",
      "1/1 [==============================] - 6s 6s/step - loss: 0.0129 - accuracy: 1.0000 - val_loss: 0.7996 - val_accuracy: 0.6667\n",
      "Epoch 30/50\n",
      "1/1 [==============================] - 6s 6s/step - loss: 0.0108 - accuracy: 1.0000 - val_loss: 0.2400 - val_accuracy: 1.0000\n",
      "Epoch 31/50\n",
      "1/1 [==============================] - 6s 6s/step - loss: 0.0308 - accuracy: 1.0000 - val_loss: 0.3003 - val_accuracy: 1.0000\n",
      "Epoch 32/50\n",
      "1/1 [==============================] - 5s 5s/step - loss: 0.0276 - accuracy: 1.0000 - val_loss: 0.9041 - val_accuracy: 0.3333\n",
      "Epoch 33/50\n",
      "1/1 [==============================] - 6s 6s/step - loss: 0.0368 - accuracy: 1.0000 - val_loss: 0.4071 - val_accuracy: 0.6667\n",
      "Epoch 34/50\n",
      "1/1 [==============================] - 6s 6s/step - loss: 0.0201 - accuracy: 1.0000 - val_loss: 0.2322 - val_accuracy: 1.0000\n",
      "Epoch 35/50\n",
      "1/1 [==============================] - 6s 6s/step - loss: 0.0145 - accuracy: 1.0000 - val_loss: 0.3062 - val_accuracy: 1.0000\n",
      "Epoch 36/50\n",
      "1/1 [==============================] - 8s 8s/step - loss: 0.0077 - accuracy: 1.0000 - val_loss: 1.6796 - val_accuracy: 0.6667\n",
      "Epoch 37/50\n",
      "1/1 [==============================] - 7s 7s/step - loss: 0.0186 - accuracy: 1.0000 - val_loss: 0.4583 - val_accuracy: 0.6667\n",
      "Epoch 38/50\n",
      "1/1 [==============================] - 5s 5s/step - loss: 0.0025 - accuracy: 1.0000 - val_loss: 0.6815 - val_accuracy: 0.6667\n",
      "Epoch 39/50\n",
      "1/1 [==============================] - 5s 5s/step - loss: 0.0165 - accuracy: 1.0000 - val_loss: 1.0518 - val_accuracy: 0.6667\n",
      "Epoch 40/50\n",
      "1/1 [==============================] - 5s 5s/step - loss: 0.0051 - accuracy: 1.0000 - val_loss: 1.4699 - val_accuracy: 0.6667\n",
      "Epoch 41/50\n",
      "1/1 [==============================] - 6s 6s/step - loss: 0.0034 - accuracy: 1.0000 - val_loss: 0.4615 - val_accuracy: 0.6667\n",
      "Epoch 42/50\n",
      "1/1 [==============================] - 5s 5s/step - loss: 0.0083 - accuracy: 1.0000 - val_loss: 0.4740 - val_accuracy: 0.6667\n",
      "Epoch 43/50\n",
      "1/1 [==============================] - 6s 6s/step - loss: 0.0059 - accuracy: 1.0000 - val_loss: 1.3592 - val_accuracy: 0.6667\n",
      "Epoch 44/50\n",
      "1/1 [==============================] - 5s 5s/step - loss: 0.0081 - accuracy: 1.0000 - val_loss: 0.1092 - val_accuracy: 1.0000\n",
      "Epoch 45/50\n",
      "1/1 [==============================] - 6s 6s/step - loss: 0.0014 - accuracy: 1.0000 - val_loss: 0.1414 - val_accuracy: 1.0000\n",
      "Epoch 46/50\n",
      "1/1 [==============================] - 5s 5s/step - loss: 0.0045 - accuracy: 1.0000 - val_loss: 0.0895 - val_accuracy: 1.0000\n",
      "Epoch 47/50\n",
      "1/1 [==============================] - 6s 6s/step - loss: 0.0101 - accuracy: 1.0000 - val_loss: 0.8210 - val_accuracy: 0.6667\n",
      "Epoch 48/50\n",
      "1/1 [==============================] - 5s 5s/step - loss: 0.0043 - accuracy: 1.0000 - val_loss: 0.2377 - val_accuracy: 1.0000\n",
      "Epoch 49/50\n",
      "1/1 [==============================] - 7s 7s/step - loss: 0.0060 - accuracy: 1.0000 - val_loss: 1.8534 - val_accuracy: 0.6667\n",
      "Epoch 50/50\n",
      "1/1 [==============================] - 6s 6s/step - loss: 0.0019 - accuracy: 1.0000 - val_loss: 0.0314 - val_accuracy: 1.0000\n",
      "treinamento finalizado\n"
     ]
    },
    {
     "name": "stderr",
     "output_type": "stream",
     "text": [
      "c:\\Users\\windows\\anaconda3\\Lib\\site-packages\\keras\\src\\engine\\training.py:3103: UserWarning: You are saving your model as an HDF5 file via `model.save()`. This file format is considered legacy. We recommend using instead the native Keras format, e.g. `model.save('my_model.keras')`.\n",
      "  saving_api.save_model(\n"
     ]
    }
   ],
   "source": [
    "model.fit_generator(\n",
    "    train_generator,\n",
    "    epochs=num_epochs,\n",
    "    validation_data=validation_generator\n",
    ")\n",
    "\n",
    "print('treinamento finalizado')\n",
    "\n",
    "model.save('model_aula.h5')    "
   ]
  },
  {
   "cell_type": "markdown",
   "metadata": {},
   "source": []
  }
 ],
 "metadata": {
  "kernelspec": {
   "display_name": "base",
   "language": "python",
   "name": "python3"
  },
  "language_info": {
   "codemirror_mode": {
    "name": "ipython",
    "version": 3
   },
   "file_extension": ".py",
   "mimetype": "text/x-python",
   "name": "python",
   "nbconvert_exporter": "python",
   "pygments_lexer": "ipython3",
   "version": "3.11.4"
  }
 },
 "nbformat": 4,
 "nbformat_minor": 2
}
