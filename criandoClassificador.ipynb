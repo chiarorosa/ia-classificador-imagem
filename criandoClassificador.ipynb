{
 "cells": [
  {
   "cell_type": "code",
   "execution_count": 1,
   "metadata": {},
   "outputs": [
    {
     "name": "stdout",
     "output_type": "stream",
     "text": [
      "WARNING:tensorflow:From c:\\Python311\\Lib\\site-packages\\keras\\src\\losses.py:2976: The name tf.losses.sparse_softmax_cross_entropy is deprecated. Please use tf.compat.v1.losses.sparse_softmax_cross_entropy instead.\n",
      "\n"
     ]
    }
   ],
   "source": [
    "import tensorflow as tf\n",
    "import scipy, numpy\n",
    "\n",
    "from tensorflow.keras.preprocessing.image import ImageDataGenerator\n",
    "from tensorflow.keras.models import Sequential\n",
    "from tensorflow.keras.layers import Conv2D, MaxPooling2D, Flatten, Dense, Dropout"
   ]
  },
  {
   "cell_type": "code",
   "execution_count": 2,
   "metadata": {},
   "outputs": [],
   "source": [
    "# Configurações para o treinamento\n",
    "train_data_dir = './data'\n",
    "batch_size = 32 # 32 imagens por lote\n",
    "num_epochs = 50 # 50 épocas de treinamento\n",
    "image_size = (150, 150) # 150x150 pixels\n",
    "num_classes = 2 # 2 classes: porco e gato"
   ]
  },
  {
   "cell_type": "code",
   "execution_count": 3,
   "metadata": {},
   "outputs": [],
   "source": [
    "train_datagen = ImageDataGenerator(\n",
    "    rescale = 1.0/255,\n",
    "    validation_split = 0.25, # 25% para validação\n",
    "    shear_range = 0.2, # inclinação\n",
    "    zoom_range = 0.2, # zoom\n",
    "    horizontal_flip = True # espelhamento horizontal\n",
    ")"
   ]
  },
  {
   "cell_type": "code",
   "execution_count": 4,
   "metadata": {},
   "outputs": [
    {
     "name": "stdout",
     "output_type": "stream",
     "text": [
      "Found 60 images belonging to 2 classes.\n"
     ]
    }
   ],
   "source": [
    "train_generator = train_datagen.flow_from_directory(\n",
    "    train_data_dir,\n",
    "    target_size = image_size,\n",
    "    batch_size = batch_size,\n",
    "    class_mode = 'binary',\n",
    "    subset = 'training'\n",
    ")"
   ]
  },
  {
   "cell_type": "code",
   "execution_count": 5,
   "metadata": {},
   "outputs": [
    {
     "name": "stdout",
     "output_type": "stream",
     "text": [
      "Found 20 images belonging to 2 classes.\n"
     ]
    }
   ],
   "source": [
    "validation_generator = train_datagen.flow_from_directory(\n",
    "    train_data_dir,\n",
    "    target_size = image_size,\n",
    "    batch_size = batch_size,\n",
    "    class_mode = 'binary',\n",
    "    subset = 'validation'\n",
    ")"
   ]
  },
  {
   "cell_type": "code",
   "execution_count": 6,
   "metadata": {},
   "outputs": [
    {
     "name": "stdout",
     "output_type": "stream",
     "text": [
      "WARNING:tensorflow:From c:\\Python311\\Lib\\site-packages\\keras\\src\\backend.py:873: The name tf.get_default_graph is deprecated. Please use tf.compat.v1.get_default_graph instead.\n",
      "\n",
      "WARNING:tensorflow:From c:\\Python311\\Lib\\site-packages\\keras\\src\\layers\\pooling\\max_pooling2d.py:161: The name tf.nn.max_pool is deprecated. Please use tf.nn.max_pool2d instead.\n",
      "\n"
     ]
    }
   ],
   "source": [
    "model = Sequential() # instanciando o modelo\n",
    "model.add(Conv2D(32, (3,3), input_shape=(image_size[0], image_size[1], 3), activation='relu')) # camada de convolução\n",
    "model.add(MaxPooling2D(pool_size=(2,2))) # camada de pooling\n",
    "model.add(Conv2D(64, (3,3), activation='relu')) # camada de convolução\n",
    "model.add(MaxPooling2D(pool_size=(2,2))) # camada de pooling\n",
    "model.add(Flatten()) # camada de achatamento ou vetorização\n",
    "model.add(Dense(64, activation='relu')) # neurônios\n",
    "model.add(Dropout(0.5)) # regularização 50% chance de desligar neurônios\n",
    "model.add(Dense(1, activation='sigmoid')) # camada de saída (classificação binária)"
   ]
  },
  {
   "cell_type": "code",
   "execution_count": 7,
   "metadata": {},
   "outputs": [
    {
     "name": "stdout",
     "output_type": "stream",
     "text": [
      "WARNING:tensorflow:From c:\\Python311\\Lib\\site-packages\\keras\\src\\optimizers\\__init__.py:309: The name tf.train.Optimizer is deprecated. Please use tf.compat.v1.train.Optimizer instead.\n",
      "\n"
     ]
    }
   ],
   "source": [
    "# compilar o modelo\n",
    "model.compile(\n",
    "    optimizer = 'adam',\n",
    "    loss = 'binary_crossentropy', # mais próximo de 0 melhor, 0.002 por exemplo\n",
    "    metrics = ['accuracy']\n",
    ")"
   ]
  },
  {
   "cell_type": "code",
   "execution_count": 8,
   "metadata": {},
   "outputs": [
    {
     "name": "stdout",
     "output_type": "stream",
     "text": [
      "Epoch 1/50\n",
      "WARNING:tensorflow:From c:\\Python311\\Lib\\site-packages\\keras\\src\\utils\\tf_utils.py:492: The name tf.ragged.RaggedTensorValue is deprecated. Please use tf.compat.v1.ragged.RaggedTensorValue instead.\n",
      "\n",
      "WARNING:tensorflow:From c:\\Python311\\Lib\\site-packages\\keras\\src\\engine\\base_layer_utils.py:384: The name tf.executing_eagerly_outside_functions is deprecated. Please use tf.compat.v1.executing_eagerly_outside_functions instead.\n",
      "\n",
      "2/2 [==============================] - 3s 1s/step - loss: 2.2597 - accuracy: 0.5333 - val_loss: 5.2339 - val_accuracy: 0.5000\n",
      "Epoch 2/50\n",
      "2/2 [==============================] - 1s 621ms/step - loss: 5.2541 - accuracy: 0.5000 - val_loss: 1.0673 - val_accuracy: 0.5000\n",
      "Epoch 3/50\n",
      "2/2 [==============================] - 1s 561ms/step - loss: 1.7776 - accuracy: 0.4167 - val_loss: 1.0237 - val_accuracy: 0.5000\n",
      "Epoch 4/50\n",
      "2/2 [==============================] - 1s 625ms/step - loss: 1.0442 - accuracy: 0.5000 - val_loss: 0.7723 - val_accuracy: 0.5000\n",
      "Epoch 5/50\n",
      "2/2 [==============================] - 1s 614ms/step - loss: 0.7657 - accuracy: 0.4667 - val_loss: 0.6719 - val_accuracy: 0.5000\n",
      "Epoch 6/50\n",
      "2/2 [==============================] - 1s 614ms/step - loss: 0.6637 - accuracy: 0.6167 - val_loss: 0.6640 - val_accuracy: 0.7000\n",
      "Epoch 7/50\n",
      "2/2 [==============================] - 1s 630ms/step - loss: 0.6391 - accuracy: 0.6167 - val_loss: 0.6677 - val_accuracy: 0.6000\n",
      "Epoch 8/50\n",
      "2/2 [==============================] - 1s 609ms/step - loss: 0.6544 - accuracy: 0.5667 - val_loss: 0.6073 - val_accuracy: 0.8000\n",
      "Epoch 9/50\n",
      "2/2 [==============================] - 1s 558ms/step - loss: 0.5841 - accuracy: 0.6833 - val_loss: 0.5862 - val_accuracy: 0.7500\n",
      "Epoch 10/50\n",
      "2/2 [==============================] - 1s 605ms/step - loss: 0.5519 - accuracy: 0.8500 - val_loss: 0.5668 - val_accuracy: 0.7500\n",
      "Epoch 11/50\n",
      "2/2 [==============================] - 1s 605ms/step - loss: 0.5176 - accuracy: 0.8167 - val_loss: 0.4983 - val_accuracy: 0.7500\n",
      "Epoch 12/50\n",
      "2/2 [==============================] - 1s 548ms/step - loss: 0.4024 - accuracy: 0.8333 - val_loss: 0.4544 - val_accuracy: 0.8000\n",
      "Epoch 13/50\n",
      "2/2 [==============================] - 1s 540ms/step - loss: 0.3672 - accuracy: 0.8667 - val_loss: 0.5087 - val_accuracy: 0.7500\n",
      "Epoch 14/50\n",
      "2/2 [==============================] - 1s 556ms/step - loss: 0.4047 - accuracy: 0.8500 - val_loss: 0.5054 - val_accuracy: 0.8000\n",
      "Epoch 15/50\n",
      "2/2 [==============================] - 1s 564ms/step - loss: 0.2804 - accuracy: 0.9333 - val_loss: 0.6335 - val_accuracy: 0.7500\n",
      "Epoch 16/50\n",
      "2/2 [==============================] - 1s 631ms/step - loss: 0.3056 - accuracy: 0.8333 - val_loss: 0.6461 - val_accuracy: 0.8000\n",
      "Epoch 17/50\n",
      "2/2 [==============================] - 1s 635ms/step - loss: 0.2705 - accuracy: 0.9167 - val_loss: 0.5346 - val_accuracy: 0.7500\n",
      "Epoch 18/50\n",
      "2/2 [==============================] - 1s 555ms/step - loss: 0.2523 - accuracy: 0.9000 - val_loss: 0.7906 - val_accuracy: 0.7500\n",
      "Epoch 19/50\n",
      "2/2 [==============================] - 1s 597ms/step - loss: 0.1958 - accuracy: 0.9667 - val_loss: 0.6950 - val_accuracy: 0.8000\n",
      "Epoch 20/50\n",
      "2/2 [==============================] - 1s 561ms/step - loss: 0.2689 - accuracy: 0.9000 - val_loss: 0.3833 - val_accuracy: 0.8500\n",
      "Epoch 21/50\n",
      "2/2 [==============================] - 1s 581ms/step - loss: 0.2613 - accuracy: 0.9000 - val_loss: 0.5415 - val_accuracy: 0.8000\n",
      "Epoch 22/50\n",
      "2/2 [==============================] - 1s 551ms/step - loss: 0.1816 - accuracy: 0.9500 - val_loss: 0.5930 - val_accuracy: 0.8000\n",
      "Epoch 23/50\n",
      "2/2 [==============================] - 1s 615ms/step - loss: 0.1124 - accuracy: 0.9667 - val_loss: 0.5042 - val_accuracy: 0.8000\n",
      "Epoch 24/50\n",
      "2/2 [==============================] - 1s 613ms/step - loss: 0.1126 - accuracy: 1.0000 - val_loss: 0.6032 - val_accuracy: 0.8000\n",
      "Epoch 25/50\n",
      "2/2 [==============================] - 1s 545ms/step - loss: 0.1063 - accuracy: 0.9667 - val_loss: 0.4490 - val_accuracy: 0.8000\n",
      "Epoch 26/50\n",
      "2/2 [==============================] - 1s 561ms/step - loss: 0.1035 - accuracy: 0.9500 - val_loss: 0.6212 - val_accuracy: 0.8000\n",
      "Epoch 27/50\n",
      "2/2 [==============================] - 1s 543ms/step - loss: 0.0779 - accuracy: 0.9833 - val_loss: 0.7114 - val_accuracy: 0.8000\n",
      "Epoch 28/50\n",
      "2/2 [==============================] - 1s 547ms/step - loss: 0.0764 - accuracy: 0.9833 - val_loss: 0.5403 - val_accuracy: 0.8000\n",
      "Epoch 29/50\n",
      "2/2 [==============================] - 1s 607ms/step - loss: 0.0761 - accuracy: 0.9500 - val_loss: 0.7845 - val_accuracy: 0.8000\n",
      "Epoch 30/50\n",
      "2/2 [==============================] - 1s 594ms/step - loss: 0.0804 - accuracy: 0.9833 - val_loss: 0.8303 - val_accuracy: 0.8000\n",
      "Epoch 31/50\n",
      "2/2 [==============================] - 1s 637ms/step - loss: 0.0353 - accuracy: 1.0000 - val_loss: 0.5160 - val_accuracy: 0.8000\n",
      "Epoch 32/50\n",
      "2/2 [==============================] - 1s 607ms/step - loss: 0.0309 - accuracy: 1.0000 - val_loss: 0.4859 - val_accuracy: 0.8000\n",
      "Epoch 33/50\n",
      "2/2 [==============================] - 1s 606ms/step - loss: 0.0579 - accuracy: 0.9833 - val_loss: 1.1415 - val_accuracy: 0.7500\n",
      "Epoch 34/50\n",
      "2/2 [==============================] - 1s 624ms/step - loss: 0.1347 - accuracy: 0.9333 - val_loss: 0.5617 - val_accuracy: 0.8000\n",
      "Epoch 35/50\n",
      "2/2 [==============================] - 1s 594ms/step - loss: 0.0885 - accuracy: 0.9500 - val_loss: 0.5690 - val_accuracy: 0.8000\n",
      "Epoch 36/50\n",
      "2/2 [==============================] - 1s 600ms/step - loss: 0.0319 - accuracy: 1.0000 - val_loss: 0.5956 - val_accuracy: 0.8000\n",
      "Epoch 37/50\n",
      "2/2 [==============================] - 1s 578ms/step - loss: 0.0404 - accuracy: 1.0000 - val_loss: 0.9115 - val_accuracy: 0.8000\n",
      "Epoch 38/50\n",
      "2/2 [==============================] - 1s 640ms/step - loss: 0.0456 - accuracy: 1.0000 - val_loss: 0.9219 - val_accuracy: 0.8000\n",
      "Epoch 39/50\n",
      "2/2 [==============================] - 1s 646ms/step - loss: 0.0400 - accuracy: 1.0000 - val_loss: 0.8605 - val_accuracy: 0.8000\n",
      "Epoch 40/50\n",
      "2/2 [==============================] - 1s 624ms/step - loss: 0.0259 - accuracy: 1.0000 - val_loss: 0.6722 - val_accuracy: 0.8000\n",
      "Epoch 41/50\n",
      "2/2 [==============================] - 1s 592ms/step - loss: 0.0206 - accuracy: 1.0000 - val_loss: 0.7825 - val_accuracy: 0.8000\n",
      "Epoch 42/50\n",
      "2/2 [==============================] - 1s 646ms/step - loss: 0.0534 - accuracy: 0.9833 - val_loss: 1.0685 - val_accuracy: 0.7500\n",
      "Epoch 43/50\n",
      "2/2 [==============================] - 1s 655ms/step - loss: 0.0195 - accuracy: 1.0000 - val_loss: 1.0357 - val_accuracy: 0.7500\n",
      "Epoch 44/50\n",
      "2/2 [==============================] - 1s 627ms/step - loss: 0.0684 - accuracy: 0.9667 - val_loss: 0.6645 - val_accuracy: 0.8000\n",
      "Epoch 45/50\n",
      "2/2 [==============================] - 1s 588ms/step - loss: 0.0291 - accuracy: 1.0000 - val_loss: 0.4380 - val_accuracy: 0.8500\n",
      "Epoch 46/50\n",
      "2/2 [==============================] - 1s 649ms/step - loss: 0.0775 - accuracy: 0.9833 - val_loss: 0.7634 - val_accuracy: 0.8000\n",
      "Epoch 47/50\n",
      "2/2 [==============================] - 1s 565ms/step - loss: 0.0609 - accuracy: 0.9667 - val_loss: 1.0018 - val_accuracy: 0.8000\n",
      "Epoch 48/50\n",
      "2/2 [==============================] - 1s 630ms/step - loss: 0.0316 - accuracy: 0.9833 - val_loss: 0.5516 - val_accuracy: 0.8000\n",
      "Epoch 49/50\n",
      "2/2 [==============================] - 1s 644ms/step - loss: 0.0070 - accuracy: 1.0000 - val_loss: 0.5898 - val_accuracy: 0.8000\n",
      "Epoch 50/50\n",
      "2/2 [==============================] - 1s 570ms/step - loss: 0.0269 - accuracy: 0.9833 - val_loss: 0.4700 - val_accuracy: 0.8000\n",
      "Treinamento concluído!\n"
     ]
    }
   ],
   "source": [
    "# treinamento\n",
    "model.fit(\n",
    "    train_generator,\n",
    "    epochs = num_epochs,\n",
    "    validation_data = validation_generator\n",
    ")\n",
    "\n",
    "print('Treinamento concluído!')\n",
    "\n",
    "# salvar o modelo\n",
    "model.save('cfModeloThallesQuevedo.keras')"
   ]
  }
 ],
 "metadata": {
  "kernelspec": {
   "display_name": "Python 3 (ipykernel)",
   "language": "python",
   "name": "python3"
  },
  "language_info": {
   "codemirror_mode": {
    "name": "ipython",
    "version": 3
   },
   "file_extension": ".py",
   "mimetype": "text/x-python",
   "name": "python",
   "nbconvert_exporter": "python",
   "pygments_lexer": "ipython3",
   "version": "3.11.4"
  },
  "widgets": {
   "application/vnd.jupyter.widget-state+json": {
    "state": {},
    "version_major": 2,
    "version_minor": 0
   }
  }
 },
 "nbformat": 4,
 "nbformat_minor": 4
}
