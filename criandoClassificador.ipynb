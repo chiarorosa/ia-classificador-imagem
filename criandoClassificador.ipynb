{
	"cells": [
		{
			"cell_type": "code",
			"execution_count": 1,
			"metadata": {},
			"outputs": [
				{
					"name": "stdout",
					"output_type": "stream",
					"text": [
						"Requirement already satisfied: tensorflow in c:\\users\\tessmann\\appdata\\roaming\\python\\python311\\site-packages (2.14.0)\n",
						"Requirement already satisfied: tensorflow-intel==2.14.0 in c:\\users\\tessmann\\appdata\\roaming\\python\\python311\\site-packages (from tensorflow) (2.14.0)\n",
						"Requirement already satisfied: absl-py>=1.0.0 in c:\\users\\tessmann\\appdata\\roaming\\python\\python311\\site-packages (from tensorflow-intel==2.14.0->tensorflow) (2.0.0)\n",
						"Requirement already satisfied: astunparse>=1.6.0 in c:\\users\\tessmann\\appdata\\roaming\\python\\python311\\site-packages (from tensorflow-intel==2.14.0->tensorflow) (1.6.3)\n",
						"Requirement already satisfied: flatbuffers>=23.5.26 in c:\\users\\tessmann\\appdata\\roaming\\python\\python311\\site-packages (from tensorflow-intel==2.14.0->tensorflow) (23.5.26)\n",
						"Requirement already satisfied: gast!=0.5.0,!=0.5.1,!=0.5.2,>=0.2.1 in c:\\users\\tessmann\\appdata\\roaming\\python\\python311\\site-packages (from tensorflow-intel==2.14.0->tensorflow) (0.5.4)\n",
						"Requirement already satisfied: google-pasta>=0.1.1 in c:\\users\\tessmann\\appdata\\roaming\\python\\python311\\site-packages (from tensorflow-intel==2.14.0->tensorflow) (0.2.0)\n",
						"Requirement already satisfied: h5py>=2.9.0 in c:\\users\\tessmann\\fia\\.conda\\lib\\site-packages (from tensorflow-intel==2.14.0->tensorflow) (3.10.0)\n",
						"Requirement already satisfied: libclang>=13.0.0 in c:\\users\\tessmann\\appdata\\roaming\\python\\python311\\site-packages (from tensorflow-intel==2.14.0->tensorflow) (16.0.6)\n",
						"Requirement already satisfied: ml-dtypes==0.2.0 in c:\\users\\tessmann\\appdata\\roaming\\python\\python311\\site-packages (from tensorflow-intel==2.14.0->tensorflow) (0.2.0)\n",
						"Requirement already satisfied: numpy>=1.23.5 in c:\\users\\tessmann\\fia\\.conda\\lib\\site-packages (from tensorflow-intel==2.14.0->tensorflow) (1.25.2)\n",
						"Requirement already satisfied: opt-einsum>=2.3.2 in c:\\users\\tessmann\\appdata\\roaming\\python\\python311\\site-packages (from tensorflow-intel==2.14.0->tensorflow) (3.3.0)\n",
						"Requirement already satisfied: packaging in c:\\users\\tessmann\\fia\\.conda\\lib\\site-packages (from tensorflow-intel==2.14.0->tensorflow) (23.1)\n",
						"Requirement already satisfied: protobuf!=4.21.0,!=4.21.1,!=4.21.2,!=4.21.3,!=4.21.4,!=4.21.5,<5.0.0dev,>=3.20.3 in c:\\users\\tessmann\\appdata\\roaming\\python\\python311\\site-packages (from tensorflow-intel==2.14.0->tensorflow) (4.25.0)\n",
						"Requirement already satisfied: setuptools in c:\\users\\tessmann\\fia\\.conda\\lib\\site-packages (from tensorflow-intel==2.14.0->tensorflow) (68.0.0)\n",
						"Requirement already satisfied: six>=1.12.0 in c:\\users\\tessmann\\fia\\.conda\\lib\\site-packages (from tensorflow-intel==2.14.0->tensorflow) (1.16.0)\n",
						"Requirement already satisfied: termcolor>=1.1.0 in c:\\users\\tessmann\\appdata\\roaming\\python\\python311\\site-packages (from tensorflow-intel==2.14.0->tensorflow) (2.3.0)\n",
						"Requirement already satisfied: typing-extensions>=3.6.6 in c:\\users\\tessmann\\fia\\.conda\\lib\\site-packages (from tensorflow-intel==2.14.0->tensorflow) (4.7.1)\n",
						"Requirement already satisfied: wrapt<1.15,>=1.11.0 in c:\\users\\tessmann\\fia\\.conda\\lib\\site-packages (from tensorflow-intel==2.14.0->tensorflow) (1.14.1)\n",
						"Requirement already satisfied: tensorflow-io-gcs-filesystem>=0.23.1 in c:\\users\\tessmann\\appdata\\roaming\\python\\python311\\site-packages (from tensorflow-intel==2.14.0->tensorflow) (0.31.0)\n",
						"Requirement already satisfied: grpcio<2.0,>=1.24.3 in c:\\users\\tessmann\\appdata\\roaming\\python\\python311\\site-packages (from tensorflow-intel==2.14.0->tensorflow) (1.59.2)\n",
						"Requirement already satisfied: tensorboard<2.15,>=2.14 in c:\\users\\tessmann\\appdata\\roaming\\python\\python311\\site-packages (from tensorflow-intel==2.14.0->tensorflow) (2.14.1)\n",
						"Requirement already satisfied: tensorflow-estimator<2.15,>=2.14.0 in c:\\users\\tessmann\\appdata\\roaming\\python\\python311\\site-packages (from tensorflow-intel==2.14.0->tensorflow) (2.14.0)\n",
						"Requirement already satisfied: keras<2.15,>=2.14.0 in c:\\users\\tessmann\\appdata\\roaming\\python\\python311\\site-packages (from tensorflow-intel==2.14.0->tensorflow) (2.14.0)\n",
						"Requirement already satisfied: wheel<1.0,>=0.23.0 in c:\\users\\tessmann\\fia\\.conda\\lib\\site-packages (from astunparse>=1.6.0->tensorflow-intel==2.14.0->tensorflow) (0.38.4)\n",
						"Requirement already satisfied: google-auth<3,>=1.6.3 in c:\\users\\tessmann\\appdata\\roaming\\python\\python311\\site-packages (from tensorboard<2.15,>=2.14->tensorflow-intel==2.14.0->tensorflow) (2.23.4)\n",
						"Requirement already satisfied: google-auth-oauthlib<1.1,>=0.5 in c:\\users\\tessmann\\appdata\\roaming\\python\\python311\\site-packages (from tensorboard<2.15,>=2.14->tensorflow-intel==2.14.0->tensorflow) (1.0.0)\n",
						"Requirement already satisfied: markdown>=2.6.8 in c:\\users\\tessmann\\fia\\.conda\\lib\\site-packages (from tensorboard<2.15,>=2.14->tensorflow-intel==2.14.0->tensorflow) (3.5)\n",
						"Requirement already satisfied: requests<3,>=2.21.0 in c:\\users\\tessmann\\fia\\.conda\\lib\\site-packages (from tensorboard<2.15,>=2.14->tensorflow-intel==2.14.0->tensorflow) (2.31.0)\n",
						"Requirement already satisfied: tensorboard-data-server<0.8.0,>=0.7.0 in c:\\users\\tessmann\\appdata\\roaming\\python\\python311\\site-packages (from tensorboard<2.15,>=2.14->tensorflow-intel==2.14.0->tensorflow) (0.7.2)\n",
						"Requirement already satisfied: werkzeug>=1.0.1 in c:\\users\\tessmann\\fia\\.conda\\lib\\site-packages (from tensorboard<2.15,>=2.14->tensorflow-intel==2.14.0->tensorflow) (3.0.1)\n",
						"Requirement already satisfied: cachetools<6.0,>=2.0.0 in c:\\users\\tessmann\\appdata\\roaming\\python\\python311\\site-packages (from google-auth<3,>=1.6.3->tensorboard<2.15,>=2.14->tensorflow-intel==2.14.0->tensorflow) (5.3.2)\n",
						"Requirement already satisfied: pyasn1-modules>=0.2.1 in c:\\users\\tessmann\\fia\\.conda\\lib\\site-packages (from google-auth<3,>=1.6.3->tensorboard<2.15,>=2.14->tensorflow-intel==2.14.0->tensorflow) (0.3.0)\n",
						"Requirement already satisfied: rsa<5,>=3.1.4 in c:\\users\\tessmann\\appdata\\roaming\\python\\python311\\site-packages (from google-auth<3,>=1.6.3->tensorboard<2.15,>=2.14->tensorflow-intel==2.14.0->tensorflow) (4.9)\n",
						"Requirement already satisfied: requests-oauthlib>=0.7.0 in c:\\users\\tessmann\\appdata\\roaming\\python\\python311\\site-packages (from google-auth-oauthlib<1.1,>=0.5->tensorboard<2.15,>=2.14->tensorflow-intel==2.14.0->tensorflow) (1.3.1)\n",
						"Requirement already satisfied: charset-normalizer<4,>=2 in c:\\users\\tessmann\\fia\\.conda\\lib\\site-packages (from requests<3,>=2.21.0->tensorboard<2.15,>=2.14->tensorflow-intel==2.14.0->tensorflow) (3.3.1)\n",
						"Requirement already satisfied: idna<4,>=2.5 in c:\\users\\tessmann\\fia\\.conda\\lib\\site-packages (from requests<3,>=2.21.0->tensorboard<2.15,>=2.14->tensorflow-intel==2.14.0->tensorflow) (3.4)\n",
						"Requirement already satisfied: urllib3<3,>=1.21.1 in c:\\users\\tessmann\\fia\\.conda\\lib\\site-packages (from requests<3,>=2.21.0->tensorboard<2.15,>=2.14->tensorflow-intel==2.14.0->tensorflow) (2.0.7)\n",
						"Requirement already satisfied: certifi>=2017.4.17 in c:\\users\\tessmann\\fia\\.conda\\lib\\site-packages (from requests<3,>=2.21.0->tensorboard<2.15,>=2.14->tensorflow-intel==2.14.0->tensorflow) (2023.7.22)\n",
						"Requirement already satisfied: MarkupSafe>=2.1.1 in c:\\users\\tessmann\\fia\\.conda\\lib\\site-packages (from werkzeug>=1.0.1->tensorboard<2.15,>=2.14->tensorflow-intel==2.14.0->tensorflow) (2.1.3)\n",
						"Requirement already satisfied: pyasn1<0.6.0,>=0.4.6 in c:\\users\\tessmann\\fia\\.conda\\lib\\site-packages (from pyasn1-modules>=0.2.1->google-auth<3,>=1.6.3->tensorboard<2.15,>=2.14->tensorflow-intel==2.14.0->tensorflow) (0.5.0)\n",
						"Requirement already satisfied: oauthlib>=3.0.0 in c:\\users\\tessmann\\appdata\\roaming\\python\\python311\\site-packages (from requests-oauthlib>=0.7.0->google-auth-oauthlib<1.1,>=0.5->tensorboard<2.15,>=2.14->tensorflow-intel==2.14.0->tensorflow) (3.2.2)\n"
					]
				}
			],
			"source": [
				"!pip install tensorflow"
			]
		},
		{
			"cell_type": "code",
			"execution_count": 2,
			"metadata": {},
			"outputs": [
				{
					"name": "stdout",
					"output_type": "stream",
					"text": [
						"Requirement already satisfied: scipy in c:\\users\\tessmann\\fia\\.conda\\lib\\site-packages (1.11.3)\n",
						"Requirement already satisfied: numpy<1.28.0,>=1.21.6 in c:\\users\\tessmann\\fia\\.conda\\lib\\site-packages (from scipy) (1.25.2)\n"
					]
				}
			],
			"source": [
				"!pip install scipy"
			]
		},
		{
			"cell_type": "code",
			"execution_count": 3,
			"metadata": {},
			"outputs": [
				{
					"name": "stdout",
					"output_type": "stream",
					"text": [
						"Requirement already satisfied: pillow in c:\\users\\tessmann\\fia\\.conda\\lib\\site-packages (10.1.0)\n"
					]
				}
			],
			"source": [
				"!pip install pillow\n",
				"from PIL import Image\n"
			]
		},
		{
			"cell_type": "code",
			"execution_count": 4,
			"metadata": {},
			"outputs": [],
			"source": [
				"import tensorflow as tf\n",
				"import scipy, numpy\n",
				"\n",
				"\n",
				"from tensorflow.keras.preprocessing.image import ImageDataGenerator\n",
				"from tensorflow.keras.models import Sequential\n",
				"from tensorflow.keras.layers import Conv2D, MaxPooling2D, Flatten, Dense, Dropout"
			]
		},
		{
			"cell_type": "code",
			"execution_count": 5,
			"metadata": {},
			"outputs": [],
			"source": [
				"# Caminhos para as pastas de dados\n",
				"train_data_dir = './data'\n",
				"batch_size = 32 # ***\n",
				"image_size = (150, 150)\n",
				"num_epochs = 50\n",
				"num_classes = 2"
			]
		},
		{
			"cell_type": "code",
			"execution_count": 8,
			"metadata": {},
			"outputs": [],
			"source": [
				"# Crie geradores de dados de treinamento\n",
				"train_datagen = ImageDataGenerator(\n",
				"    rescale=1.0 / 255, # Normalização das imagens\n",
				"    validation_split=0.25,  # Define a divisão de validação\n",
				"    shear_range=0.2,\n",
				"    zoom_range=0.2,\n",
				"    horizontal_flip=True)    "
			]
		},
		{
			"cell_type": "code",
			"execution_count": 9,
			"metadata": {},
			"outputs": [
				{
					"name": "stdout",
					"output_type": "stream",
					"text": [
						"Found 38 images belonging to 2 classes.\n"
					]
				}
			],
			"source": [
				"train_generator = train_datagen.flow_from_directory(\n",
				"    train_data_dir,\n",
				"    target_size=image_size,\n",
				"    batch_size=batch_size,\n",
				"    class_mode='binary',\n",
				"    subset='training'\n",
				")"
			]
		},
		{
			"cell_type": "code",
			"execution_count": 10,
			"metadata": {},
			"outputs": [
				{
					"name": "stdout",
					"output_type": "stream",
					"text": [
						"Found 12 images belonging to 2 classes.\n"
					]
				}
			],
			"source": [
				"validation_generator = train_datagen.flow_from_directory(\n",
				"    train_data_dir,\n",
				"    target_size=image_size,\n",
				"    batch_size=batch_size,\n",
				"    class_mode='binary',\n",
				"    subset='validation'\n",
				")"
			]
		},
		{
			"cell_type": "code",
			"execution_count": 11,
			"metadata": {},
			"outputs": [],
			"source": [
				"model = Sequential()\n",
				"model.add(Conv2D(32, (3, 3), input_shape=(image_size[0], image_size[1], 3), activation='relu'))\n",
				"model.add(MaxPooling2D(pool_size=(2, 2)))\n",
				"model.add(Conv2D(64, (3, 3), activation='relu'))\n",
				"model.add(MaxPooling2D(pool_size=(2, 2)))\n",
				"model.add(Flatten())\n",
				"model.add(Dense(64, activation='relu'))\n",
				"model.add(Dropout(0.5))\n",
				"model.add(Dense(1, activation='sigmoid'))  # Camada de saída com 1 unidade para classificação binária"
			]
		},
		{
			"cell_type": "code",
			"execution_count": 12,
			"metadata": {},
			"outputs": [],
			"source": [
				"# Compile o modelo\n",
				"model.compile(loss='binary_crossentropy',\n",
				"              optimizer='adam',\n",
				"              metrics=['accuracy'])"
			]
		},
		{
			"cell_type": "code",
			"execution_count": 13,
			"metadata": {},
			"outputs": [
				{
					"name": "stdout",
					"output_type": "stream",
					"text": [
						"Epoch 1/50\n",
						"2/2 [==============================] - 2s 945ms/step - loss: 1.0701 - accuracy: 0.5526 - val_loss: 2.9089 - val_accuracy: 0.5000\n",
						"Epoch 2/50\n",
						"2/2 [==============================] - 1s 609ms/step - loss: 1.2195 - accuracy: 0.5789 - val_loss: 0.9562 - val_accuracy: 0.5000\n",
						"Epoch 3/50\n",
						"2/2 [==============================] - 1s 614ms/step - loss: 0.9379 - accuracy: 0.5789 - val_loss: 0.7624 - val_accuracy: 0.5000\n",
						"Epoch 4/50\n",
						"2/2 [==============================] - 1s 620ms/step - loss: 0.8290 - accuracy: 0.5000 - val_loss: 0.6915 - val_accuracy: 0.5000\n",
						"Epoch 5/50\n",
						"2/2 [==============================] - 1s 257ms/step - loss: 0.6519 - accuracy: 0.6316 - val_loss: 0.6588 - val_accuracy: 0.5000\n",
						"Epoch 6/50\n",
						"2/2 [==============================] - 1s 625ms/step - loss: 0.6586 - accuracy: 0.6842 - val_loss: 0.6624 - val_accuracy: 0.5000\n",
						"Epoch 7/50\n",
						"2/2 [==============================] - 1s 631ms/step - loss: 0.6510 - accuracy: 0.5526 - val_loss: 0.6559 - val_accuracy: 0.5833\n",
						"Epoch 8/50\n",
						"2/2 [==============================] - 1s 639ms/step - loss: 0.6371 - accuracy: 0.6316 - val_loss: 0.6623 - val_accuracy: 0.6667\n",
						"Epoch 9/50\n",
						"2/2 [==============================] - 1s 662ms/step - loss: 0.6405 - accuracy: 0.7105 - val_loss: 0.6299 - val_accuracy: 0.6667\n",
						"Epoch 10/50\n",
						"2/2 [==============================] - 1s 631ms/step - loss: 0.5896 - accuracy: 0.6842 - val_loss: 0.6523 - val_accuracy: 0.6667\n",
						"Epoch 11/50\n",
						"2/2 [==============================] - 1s 252ms/step - loss: 0.5697 - accuracy: 0.6579 - val_loss: 0.7069 - val_accuracy: 0.5000\n",
						"Epoch 12/50\n",
						"2/2 [==============================] - 1s 631ms/step - loss: 0.5617 - accuracy: 0.6053 - val_loss: 0.5931 - val_accuracy: 0.6667\n",
						"Epoch 13/50\n",
						"2/2 [==============================] - 1s 611ms/step - loss: 0.4550 - accuracy: 0.8947 - val_loss: 0.4927 - val_accuracy: 0.9167\n",
						"Epoch 14/50\n",
						"2/2 [==============================] - 1s 247ms/step - loss: 0.4436 - accuracy: 0.8684 - val_loss: 0.4086 - val_accuracy: 0.9167\n",
						"Epoch 15/50\n",
						"2/2 [==============================] - 1s 241ms/step - loss: 0.4219 - accuracy: 0.8421 - val_loss: 0.4074 - val_accuracy: 0.9167\n",
						"Epoch 16/50\n",
						"2/2 [==============================] - 1s 251ms/step - loss: 0.2899 - accuracy: 0.8947 - val_loss: 0.3260 - val_accuracy: 0.9167\n",
						"Epoch 17/50\n",
						"2/2 [==============================] - 1s 244ms/step - loss: 0.3099 - accuracy: 0.8684 - val_loss: 0.7354 - val_accuracy: 0.7500\n",
						"Epoch 18/50\n",
						"2/2 [==============================] - 1s 247ms/step - loss: 0.2870 - accuracy: 0.8684 - val_loss: 0.4182 - val_accuracy: 0.8333\n",
						"Epoch 19/50\n",
						"2/2 [==============================] - 1s 615ms/step - loss: 0.2344 - accuracy: 0.8947 - val_loss: 0.6873 - val_accuracy: 0.7500\n",
						"Epoch 20/50\n",
						"2/2 [==============================] - 1s 247ms/step - loss: 0.2149 - accuracy: 0.9211 - val_loss: 0.3593 - val_accuracy: 0.8333\n",
						"Epoch 21/50\n",
						"2/2 [==============================] - 1s 245ms/step - loss: 0.2055 - accuracy: 0.9211 - val_loss: 0.2954 - val_accuracy: 0.9167\n",
						"Epoch 22/50\n",
						"2/2 [==============================] - 1s 246ms/step - loss: 0.2318 - accuracy: 0.8947 - val_loss: 0.3984 - val_accuracy: 0.9167\n",
						"Epoch 23/50\n",
						"2/2 [==============================] - 1s 631ms/step - loss: 0.1239 - accuracy: 0.9737 - val_loss: 0.6823 - val_accuracy: 0.8333\n",
						"Epoch 24/50\n",
						"2/2 [==============================] - 1s 600ms/step - loss: 0.1093 - accuracy: 1.0000 - val_loss: 0.9407 - val_accuracy: 0.7500\n",
						"Epoch 25/50\n",
						"2/2 [==============================] - 1s 599ms/step - loss: 0.1113 - accuracy: 0.9737 - val_loss: 0.5897 - val_accuracy: 0.9167\n",
						"Epoch 26/50\n",
						"2/2 [==============================] - 1s 614ms/step - loss: 0.2330 - accuracy: 0.9211 - val_loss: 0.4068 - val_accuracy: 0.8333\n",
						"Epoch 27/50\n",
						"2/2 [==============================] - 1s 242ms/step - loss: 0.1429 - accuracy: 0.9474 - val_loss: 0.5783 - val_accuracy: 0.8333\n",
						"Epoch 28/50\n",
						"2/2 [==============================] - 1s 251ms/step - loss: 0.0460 - accuracy: 1.0000 - val_loss: 1.1830 - val_accuracy: 0.7500\n",
						"Epoch 29/50\n",
						"2/2 [==============================] - 1s 249ms/step - loss: 0.1918 - accuracy: 0.9211 - val_loss: 0.5431 - val_accuracy: 0.8333\n",
						"Epoch 30/50\n",
						"2/2 [==============================] - 1s 243ms/step - loss: 0.0823 - accuracy: 0.9737 - val_loss: 0.1497 - val_accuracy: 0.9167\n",
						"Epoch 31/50\n",
						"2/2 [==============================] - 1s 621ms/step - loss: 0.0889 - accuracy: 0.9737 - val_loss: 0.3434 - val_accuracy: 0.8333\n",
						"Epoch 32/50\n",
						"2/2 [==============================] - 1s 631ms/step - loss: 0.0866 - accuracy: 0.9474 - val_loss: 0.8949 - val_accuracy: 0.7500\n",
						"Epoch 33/50\n",
						"2/2 [==============================] - 1s 625ms/step - loss: 0.0904 - accuracy: 0.9474 - val_loss: 0.6097 - val_accuracy: 0.8333\n",
						"Epoch 34/50\n",
						"2/2 [==============================] - 1s 243ms/step - loss: 0.0895 - accuracy: 0.9737 - val_loss: 0.3300 - val_accuracy: 0.8333\n",
						"Epoch 35/50\n",
						"2/2 [==============================] - 1s 619ms/step - loss: 0.0332 - accuracy: 1.0000 - val_loss: 0.5625 - val_accuracy: 0.8333\n",
						"Epoch 36/50\n",
						"2/2 [==============================] - 1s 619ms/step - loss: 0.0331 - accuracy: 1.0000 - val_loss: 0.5826 - val_accuracy: 0.9167\n",
						"Epoch 37/50\n",
						"2/2 [==============================] - 1s 258ms/step - loss: 0.1877 - accuracy: 0.9474 - val_loss: 0.2284 - val_accuracy: 0.9167\n",
						"Epoch 38/50\n",
						"2/2 [==============================] - 1s 616ms/step - loss: 0.2576 - accuracy: 0.9211 - val_loss: 0.1557 - val_accuracy: 0.9167\n",
						"Epoch 39/50\n",
						"2/2 [==============================] - 1s 249ms/step - loss: 0.0969 - accuracy: 0.9211 - val_loss: 0.2545 - val_accuracy: 0.8333\n",
						"Epoch 40/50\n",
						"2/2 [==============================] - 1s 620ms/step - loss: 0.0689 - accuracy: 0.9737 - val_loss: 0.1043 - val_accuracy: 1.0000\n",
						"Epoch 41/50\n",
						"2/2 [==============================] - 1s 249ms/step - loss: 0.0921 - accuracy: 0.9737 - val_loss: 0.1002 - val_accuracy: 1.0000\n",
						"Epoch 42/50\n",
						"2/2 [==============================] - 1s 252ms/step - loss: 0.2227 - accuracy: 0.9211 - val_loss: 0.1900 - val_accuracy: 0.9167\n",
						"Epoch 43/50\n",
						"2/2 [==============================] - 1s 636ms/step - loss: 0.0543 - accuracy: 1.0000 - val_loss: 0.4851 - val_accuracy: 0.8333\n",
						"Epoch 44/50\n",
						"2/2 [==============================] - 1s 621ms/step - loss: 0.1073 - accuracy: 0.9474 - val_loss: 0.6055 - val_accuracy: 0.8333\n",
						"Epoch 45/50\n",
						"2/2 [==============================] - 1s 242ms/step - loss: 0.0404 - accuracy: 1.0000 - val_loss: 0.5241 - val_accuracy: 0.8333\n",
						"Epoch 46/50\n",
						"2/2 [==============================] - 1s 622ms/step - loss: 0.0450 - accuracy: 1.0000 - val_loss: 0.4744 - val_accuracy: 0.8333\n",
						"Epoch 47/50\n",
						"2/2 [==============================] - 1s 241ms/step - loss: 0.0370 - accuracy: 1.0000 - val_loss: 0.6894 - val_accuracy: 0.8333\n",
						"Epoch 48/50\n",
						"2/2 [==============================] - 1s 244ms/step - loss: 0.0437 - accuracy: 1.0000 - val_loss: 0.7173 - val_accuracy: 0.8333\n",
						"Epoch 49/50\n",
						"2/2 [==============================] - 1s 615ms/step - loss: 0.0435 - accuracy: 1.0000 - val_loss: 0.9359 - val_accuracy: 0.8333\n",
						"Epoch 50/50\n",
						"2/2 [==============================] - 1s 248ms/step - loss: 0.0134 - accuracy: 1.0000 - val_loss: 0.9547 - val_accuracy: 0.8333\n",
						"Modelo salvo com sucesso!\n"
					]
				},
				{
					"name": "stderr",
					"output_type": "stream",
					"text": [
						"C:\\Users\\Tessmann\\AppData\\Roaming\\Python\\Python311\\site-packages\\keras\\src\\engine\\training.py:3079: UserWarning: You are saving your model as an HDF5 file via `model.save()`. This file format is considered legacy. We recommend using instead the native Keras format, e.g. `model.save('my_model.keras')`.\n",
						"  saving_api.save_model(\n"
					]
				}
			],
			"source": [
				"# Treine o modelo\n",
				"model.fit(\n",
				"    train_generator,\n",
				"    epochs=num_epochs,\n",
				"    validation_data=validation_generator)\n",
				"\n",
				"# Salve o modelo treinados\n",
				"model.save('./models/cfModeloAluno.h5')\n",
				"\n",
				"print('Modelo salvo com sucesso!')"
			]
		}
	],
	"metadata": {
		"kernelspec": {
			"display_name": "base",
			"language": "python",
			"name": "python3"
		},
		"language_info": {
			"codemirror_mode": {
				"name": "ipython",
				"version": 3
			},
			"file_extension": ".py",
			"mimetype": "text/x-python",
			"name": "python",
			"nbconvert_exporter": "python",
			"pygments_lexer": "ipython3",
			"version": "3.11.4"
		}
	},
	"nbformat": 4,
	"nbformat_minor": 2
}
