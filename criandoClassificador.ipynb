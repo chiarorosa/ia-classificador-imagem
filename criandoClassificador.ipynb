{
 "cells": [
  {
   "cell_type": "code",
   "execution_count": 1,
   "metadata": {},
   "outputs": [],
   "source": [
    "import tensorflow as tf\n",
    "import scipy, numpy\n",
    "\n",
    "from tensorflow.keras.preprocessing.image import ImageDataGenerator\n",
    "from tensorflow.keras.models import Sequential\n",
    "from tensorflow.keras.layers import Conv2D, MaxPooling2D, Flatten, Dense, Dropout"
   ]
  },
  {
   "cell_type": "code",
   "execution_count": 2,
   "metadata": {},
   "outputs": [],
   "source": [
    "# Configurações para o treinamento\n",
    "train_data_dir = './data'\n",
    "batch_size = 32 # 32 imagens por lote\n",
    "num_epochs = 50 # 50 épocas de treinamento\n",
    "image_size = (150, 150) # 150x150 pixels\n",
    "num_classes = 2 # 2 classes: porco e gato"
   ]
  },
  {
   "cell_type": "code",
   "execution_count": 3,
   "metadata": {},
   "outputs": [],
   "source": [
    "train_datagen = ImageDataGenerator(\n",
    "    rescale = 1.0/255,\n",
    "    validation_split = 0.25, # 25% para validação\n",
    "    shear_range = 0.2, # inclinação\n",
    "    zoom_range = 0.2, # zoom\n",
    "    horizontal_flip = True # espelhamento horizontal\n",
    ")"
   ]
  },
  {
   "cell_type": "code",
   "execution_count": 4,
   "metadata": {},
   "outputs": [
    {
     "name": "stdout",
     "output_type": "stream",
     "text": [
      "Found 49 images belonging to 2 classes.\n"
     ]
    }
   ],
   "source": [
    "train_generator = train_datagen.flow_from_directory(\n",
    "    train_data_dir,\n",
    "    target_size = image_size,\n",
    "    batch_size = batch_size,\n",
    "    class_mode = 'binary',\n",
    "    subset = 'training'\n",
    ")"
   ]
  },
  {
   "cell_type": "code",
   "execution_count": 5,
   "metadata": {},
   "outputs": [
    {
     "name": "stdout",
     "output_type": "stream",
     "text": [
      "Found 16 images belonging to 2 classes.\n"
     ]
    }
   ],
   "source": [
    "validation_generator = train_datagen.flow_from_directory(\n",
    "    train_data_dir,\n",
    "    target_size = image_size,\n",
    "    batch_size = batch_size,\n",
    "    class_mode = 'binary',\n",
    "    subset = 'validation'\n",
    ")"
   ]
  },
  {
   "cell_type": "code",
   "execution_count": 6,
   "metadata": {},
   "outputs": [],
   "source": [
    "model = Sequential() # instanciando o modelo\n",
    "model.add(Conv2D(32, (3,3), input_shape=(image_size[0], image_size[1], 3), activation='relu')) # camada de convolução\n",
    "model.add(MaxPooling2D(pool_size=(2,2))) # camada de pooling\n",
    "model.add(Conv2D(64, (3,3), activation='relu')) # camada de convolução\n",
    "model.add(MaxPooling2D(pool_size=(2,2))) # camada de pooling\n",
    "model.add(Flatten()) # camada de achatamento ou vetorização\n",
    "model.add(Dense(64, activation='relu')) # neurônios\n",
    "model.add(Dropout(0.5)) # regularização 50% chance de desligar neurônios\n",
    "model.add(Dense(1, activation='sigmoid')) # camada de saída (classificação binária)"
   ]
  },
  {
   "cell_type": "code",
   "execution_count": 7,
   "metadata": {},
   "outputs": [],
   "source": [
    "# compilar o modelo\n",
    "model.compile(\n",
    "    optimizer = 'adam',\n",
    "    loss = 'binary_crossentropy', # mais próximo de 0 melhor, 0.002 por exemplo\n",
    "    metrics = ['accuracy']\n",
    ")"
   ]
  },
  {
   "cell_type": "code",
   "execution_count": 8,
   "metadata": {},
   "outputs": [
    {
     "name": "stdout",
     "output_type": "stream",
     "text": [
      "Epoch 1/50\n",
      "2/2 [==============================] - 2s 805ms/step - loss: 1.2020 - accuracy: 0.4490 - val_loss: 1.9505 - val_accuracy: 0.5000\n",
      "Epoch 2/50\n",
      "2/2 [==============================] - 1s 404ms/step - loss: 1.8988 - accuracy: 0.5102 - val_loss: 0.7391 - val_accuracy: 0.5000\n",
      "Epoch 3/50\n",
      "2/2 [==============================] - 1s 406ms/step - loss: 0.9478 - accuracy: 0.5102 - val_loss: 0.7769 - val_accuracy: 0.5000\n",
      "Epoch 4/50\n",
      "2/2 [==============================] - 1s 278ms/step - loss: 0.7661 - accuracy: 0.5102 - val_loss: 0.6574 - val_accuracy: 0.8125\n",
      "Epoch 5/50\n",
      "2/2 [==============================] - 1s 263ms/step - loss: 0.6136 - accuracy: 0.7143 - val_loss: 0.6713 - val_accuracy: 0.5000\n",
      "Epoch 6/50\n",
      "2/2 [==============================] - 1s 448ms/step - loss: 0.6454 - accuracy: 0.5714 - val_loss: 0.6180 - val_accuracy: 0.6875\n",
      "Epoch 7/50\n",
      "2/2 [==============================] - 1s 402ms/step - loss: 0.6835 - accuracy: 0.5714 - val_loss: 0.6628 - val_accuracy: 0.5000\n",
      "Epoch 8/50\n",
      "2/2 [==============================] - 1s 410ms/step - loss: 0.6474 - accuracy: 0.6327 - val_loss: 0.6041 - val_accuracy: 0.5625\n",
      "Epoch 9/50\n",
      "2/2 [==============================] - 1s 429ms/step - loss: 0.6368 - accuracy: 0.5918 - val_loss: 0.5898 - val_accuracy: 0.8125\n",
      "Epoch 10/50\n",
      "2/2 [==============================] - 1s 268ms/step - loss: 0.6088 - accuracy: 0.6531 - val_loss: 0.5760 - val_accuracy: 0.7500\n",
      "Epoch 11/50\n",
      "2/2 [==============================] - 1s 269ms/step - loss: 0.5487 - accuracy: 0.7755 - val_loss: 0.5174 - val_accuracy: 0.8750\n",
      "Epoch 12/50\n",
      "2/2 [==============================] - 1s 428ms/step - loss: 0.5049 - accuracy: 0.7755 - val_loss: 0.4841 - val_accuracy: 0.8750\n",
      "Epoch 13/50\n",
      "2/2 [==============================] - 1s 261ms/step - loss: 0.4589 - accuracy: 0.8367 - val_loss: 0.5607 - val_accuracy: 0.6250\n",
      "Epoch 14/50\n",
      "2/2 [==============================] - 1s 281ms/step - loss: 0.5004 - accuracy: 0.7347 - val_loss: 0.3712 - val_accuracy: 0.9375\n",
      "Epoch 15/50\n",
      "2/2 [==============================] - 1s 264ms/step - loss: 0.5140 - accuracy: 0.7143 - val_loss: 0.3390 - val_accuracy: 0.9375\n",
      "Epoch 16/50\n",
      "2/2 [==============================] - 1s 264ms/step - loss: 0.3906 - accuracy: 0.7959 - val_loss: 0.4146 - val_accuracy: 0.8125\n",
      "Epoch 17/50\n",
      "2/2 [==============================] - 1s 294ms/step - loss: 0.4030 - accuracy: 0.7959 - val_loss: 0.4456 - val_accuracy: 0.8125\n",
      "Epoch 18/50\n",
      "2/2 [==============================] - 1s 263ms/step - loss: 0.3337 - accuracy: 0.8571 - val_loss: 0.2665 - val_accuracy: 0.9375\n",
      "Epoch 19/50\n",
      "2/2 [==============================] - 1s 409ms/step - loss: 0.3196 - accuracy: 0.8571 - val_loss: 0.2458 - val_accuracy: 0.9375\n",
      "Epoch 20/50\n",
      "2/2 [==============================] - 1s 269ms/step - loss: 0.3245 - accuracy: 0.8571 - val_loss: 0.2776 - val_accuracy: 0.8750\n",
      "Epoch 21/50\n",
      "2/2 [==============================] - 1s 263ms/step - loss: 0.2433 - accuracy: 0.9388 - val_loss: 0.3845 - val_accuracy: 0.8125\n",
      "Epoch 22/50\n",
      "2/2 [==============================] - 1s 432ms/step - loss: 0.1744 - accuracy: 0.9388 - val_loss: 0.1822 - val_accuracy: 0.9375\n",
      "Epoch 23/50\n",
      "2/2 [==============================] - 1s 409ms/step - loss: 0.1860 - accuracy: 0.9388 - val_loss: 0.2229 - val_accuracy: 0.8750\n",
      "Epoch 24/50\n",
      "2/2 [==============================] - 1s 266ms/step - loss: 0.1415 - accuracy: 0.9592 - val_loss: 0.4745 - val_accuracy: 0.8125\n",
      "Epoch 25/50\n",
      "2/2 [==============================] - 1s 286ms/step - loss: 0.1037 - accuracy: 0.9796 - val_loss: 0.1873 - val_accuracy: 0.8750\n",
      "Epoch 26/50\n",
      "2/2 [==============================] - 1s 269ms/step - loss: 0.1256 - accuracy: 0.9388 - val_loss: 0.1681 - val_accuracy: 0.9375\n",
      "Epoch 27/50\n",
      "2/2 [==============================] - 1s 415ms/step - loss: 0.1502 - accuracy: 0.9184 - val_loss: 0.5928 - val_accuracy: 0.8125\n",
      "Epoch 28/50\n",
      "2/2 [==============================] - 1s 437ms/step - loss: 0.2710 - accuracy: 0.8776 - val_loss: 0.1813 - val_accuracy: 0.9375\n",
      "Epoch 29/50\n",
      "2/2 [==============================] - 1s 418ms/step - loss: 0.2122 - accuracy: 0.9184 - val_loss: 0.2558 - val_accuracy: 0.8125\n",
      "Epoch 30/50\n",
      "2/2 [==============================] - 1s 288ms/step - loss: 0.2106 - accuracy: 0.8980 - val_loss: 0.1612 - val_accuracy: 1.0000\n",
      "Epoch 31/50\n",
      "2/2 [==============================] - 1s 432ms/step - loss: 0.1227 - accuracy: 0.9796 - val_loss: 0.3660 - val_accuracy: 0.8125\n",
      "Epoch 32/50\n",
      "2/2 [==============================] - 1s 406ms/step - loss: 0.1710 - accuracy: 0.9592 - val_loss: 0.4006 - val_accuracy: 0.8125\n",
      "Epoch 33/50\n",
      "2/2 [==============================] - 1s 452ms/step - loss: 0.1372 - accuracy: 0.9796 - val_loss: 0.2376 - val_accuracy: 0.8125\n",
      "Epoch 34/50\n",
      "2/2 [==============================] - 1s 412ms/step - loss: 0.1273 - accuracy: 0.9592 - val_loss: 0.1169 - val_accuracy: 1.0000\n",
      "Epoch 35/50\n",
      "2/2 [==============================] - 1s 276ms/step - loss: 0.0930 - accuracy: 0.9796 - val_loss: 0.0869 - val_accuracy: 1.0000\n",
      "Epoch 36/50\n",
      "2/2 [==============================] - 1s 453ms/step - loss: 0.0601 - accuracy: 1.0000 - val_loss: 0.1755 - val_accuracy: 0.9375\n",
      "Epoch 37/50\n",
      "2/2 [==============================] - 1s 278ms/step - loss: 0.0656 - accuracy: 0.9796 - val_loss: 0.4810 - val_accuracy: 0.8125\n",
      "Epoch 38/50\n",
      "2/2 [==============================] - 1s 270ms/step - loss: 0.0561 - accuracy: 1.0000 - val_loss: 0.1205 - val_accuracy: 0.9375\n",
      "Epoch 39/50\n",
      "2/2 [==============================] - 1s 289ms/step - loss: 0.0368 - accuracy: 1.0000 - val_loss: 0.1415 - val_accuracy: 0.8750\n",
      "Epoch 40/50\n",
      "2/2 [==============================] - 1s 256ms/step - loss: 0.0359 - accuracy: 1.0000 - val_loss: 0.1282 - val_accuracy: 0.9375\n",
      "Epoch 41/50\n",
      "2/2 [==============================] - 1s 428ms/step - loss: 0.0389 - accuracy: 0.9796 - val_loss: 0.2452 - val_accuracy: 0.8750\n",
      "Epoch 42/50\n",
      "2/2 [==============================] - 1s 266ms/step - loss: 0.0360 - accuracy: 0.9796 - val_loss: 0.2741 - val_accuracy: 0.8750\n",
      "Epoch 43/50\n",
      "2/2 [==============================] - 1s 258ms/step - loss: 0.0216 - accuracy: 1.0000 - val_loss: 0.4119 - val_accuracy: 0.8750\n",
      "Epoch 44/50\n",
      "2/2 [==============================] - 1s 287ms/step - loss: 0.0483 - accuracy: 0.9796 - val_loss: 0.4188 - val_accuracy: 0.8750\n",
      "Epoch 45/50\n",
      "2/2 [==============================] - 1s 263ms/step - loss: 0.0161 - accuracy: 1.0000 - val_loss: 0.2804 - val_accuracy: 0.8750\n",
      "Epoch 46/50\n",
      "2/2 [==============================] - 1s 428ms/step - loss: 0.0436 - accuracy: 0.9796 - val_loss: 0.4327 - val_accuracy: 0.8125\n",
      "Epoch 47/50\n",
      "2/2 [==============================] - 1s 272ms/step - loss: 0.0425 - accuracy: 0.9796 - val_loss: 0.1583 - val_accuracy: 0.9375\n",
      "Epoch 48/50\n",
      "2/2 [==============================] - 1s 291ms/step - loss: 0.0147 - accuracy: 1.0000 - val_loss: 0.1457 - val_accuracy: 0.9375\n",
      "Epoch 49/50\n",
      "2/2 [==============================] - 1s 271ms/step - loss: 0.0209 - accuracy: 1.0000 - val_loss: 0.1148 - val_accuracy: 0.9375\n",
      "Epoch 50/50\n",
      "2/2 [==============================] - 1s 269ms/step - loss: 0.0099 - accuracy: 1.0000 - val_loss: 0.1578 - val_accuracy: 0.8750\n",
      "Treinamento concluído!\n"
     ]
    }
   ],
   "source": [
    "# treinamento\n",
    "model.fit(\n",
    "    train_generator,\n",
    "    epochs = num_epochs,\n",
    "    validation_data = validation_generator\n",
    ")\n",
    "\n",
    "print('Treinamento concluído!')\n",
    "\n",
    "# salvar o modelo\n",
    "model.save('cfModeloHenriqueLF.keras')"
   ]
  }
 ],
 "metadata": {
  "kernelspec": {
   "display_name": "Python 3 (ipykernel)",
   "language": "python",
   "name": "python3"
  },
  "language_info": {
   "codemirror_mode": {
    "name": "ipython",
    "version": 3
   },
   "file_extension": ".py",
   "mimetype": "text/x-python",
   "name": "python",
   "nbconvert_exporter": "python",
   "pygments_lexer": "ipython3",
   "version": "3.8.5"
  },
  "widgets": {
   "application/vnd.jupyter.widget-state+json": {
    "state": {},
    "version_major": 2,
    "version_minor": 0
   }
  }
 },
 "nbformat": 4,
 "nbformat_minor": 4
}
