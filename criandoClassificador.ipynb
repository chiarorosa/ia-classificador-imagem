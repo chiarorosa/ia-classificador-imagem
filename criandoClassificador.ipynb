{
 "cells": [
  {
   "cell_type": "code",
   "execution_count": 1,
   "metadata": {},
   "outputs": [
    {
     "name": "stdout",
     "output_type": "stream",
     "text": [
      "WARNING:tensorflow:From c:\\Users\\Cleiton\\AppData\\Local\\Programs\\Python\\Python311\\Lib\\site-packages\\keras\\src\\losses.py:2976: The name tf.losses.sparse_softmax_cross_entropy is deprecated. Please use tf.compat.v1.losses.sparse_softmax_cross_entropy instead.\n",
      "\n"
     ]
    }
   ],
   "source": [
    "import tensorflow as tf\n",
    "import scipy, numpy\n",
    "\n",
    "from tensorflow.keras.preprocessing.image import ImageDataGenerator\n",
    "from tensorflow.keras.models import Sequential\n",
    "from tensorflow.keras.layers import Conv2D, MaxPooling2D, Flatten, Dense, Dropout"
   ]
  },
  {
   "cell_type": "code",
   "execution_count": 2,
   "metadata": {},
   "outputs": [],
   "source": [
    "# Configurações para o treinamento\n",
    "train_data_dir = './data'\n",
    "batch_size = 32 # 32 imagens por lote\n",
    "num_epochs = 50 # 50 épocas de treinamento\n",
    "image_size = (150, 150) # 150x150 pixels\n",
    "num_classes = 2 # 2 classes: porco e gato"
   ]
  },
  {
   "cell_type": "code",
   "execution_count": 3,
   "metadata": {},
   "outputs": [],
   "source": [
    "train_datagen = ImageDataGenerator(\n",
    "    rescale = 1.0/255,\n",
    "    validation_split = 0.25, # 25% para validação\n",
    "    shear_range = 0.2, # inclinação\n",
    "    zoom_range = 0.2, # zoom\n",
    "    horizontal_flip = True # espelhamento horizontal\n",
    ")"
   ]
  },
  {
   "cell_type": "code",
   "execution_count": 4,
   "metadata": {},
   "outputs": [
    {
     "name": "stdout",
     "output_type": "stream",
     "text": [
      "Found 45 images belonging to 2 classes.\n"
     ]
    }
   ],
   "source": [
    "train_generator = train_datagen.flow_from_directory(\n",
    "    train_data_dir,\n",
    "    target_size = image_size,\n",
    "    batch_size = batch_size,\n",
    "    class_mode = 'binary',\n",
    "    subset = 'training'\n",
    ")"
   ]
  },
  {
   "cell_type": "code",
   "execution_count": 5,
   "metadata": {},
   "outputs": [
    {
     "name": "stdout",
     "output_type": "stream",
     "text": [
      "Found 13 images belonging to 2 classes.\n"
     ]
    }
   ],
   "source": [
    "validation_generator = train_datagen.flow_from_directory(\n",
    "    train_data_dir,\n",
    "    target_size = image_size,\n",
    "    batch_size = batch_size,\n",
    "    class_mode = 'binary',\n",
    "    subset = 'validation'\n",
    ")"
   ]
  },
  {
   "cell_type": "code",
   "execution_count": 6,
   "metadata": {},
   "outputs": [
    {
     "name": "stdout",
     "output_type": "stream",
     "text": [
      "WARNING:tensorflow:From c:\\Users\\Cleiton\\AppData\\Local\\Programs\\Python\\Python311\\Lib\\site-packages\\keras\\src\\backend.py:873: The name tf.get_default_graph is deprecated. Please use tf.compat.v1.get_default_graph instead.\n",
      "\n",
      "WARNING:tensorflow:From c:\\Users\\Cleiton\\AppData\\Local\\Programs\\Python\\Python311\\Lib\\site-packages\\keras\\src\\layers\\pooling\\max_pooling2d.py:161: The name tf.nn.max_pool is deprecated. Please use tf.nn.max_pool2d instead.\n",
      "\n"
     ]
    }
   ],
   "source": [
    "model = Sequential() # instanciando o modelo\n",
    "model.add(Conv2D(32, (3,3), input_shape=(image_size[0], image_size[1], 3), activation='relu')) # camada de convolução\n",
    "model.add(MaxPooling2D(pool_size=(2,2))) # camada de pooling\n",
    "model.add(Conv2D(64, (3,3), activation='relu')) # camada de convolução\n",
    "model.add(MaxPooling2D(pool_size=(2,2))) # camada de pooling\n",
    "model.add(Flatten()) # camada de achatamento ou vetorização\n",
    "model.add(Dense(64, activation='relu')) # neurônios\n",
    "model.add(Dropout(0.5)) # regularização 50% chance de desligar neurônios\n",
    "model.add(Dense(1, activation='sigmoid')) # camada de saída (classificação binária)"
   ]
  },
  {
   "cell_type": "code",
   "execution_count": 7,
   "metadata": {},
   "outputs": [
    {
     "name": "stdout",
     "output_type": "stream",
     "text": [
      "WARNING:tensorflow:From c:\\Users\\Cleiton\\AppData\\Local\\Programs\\Python\\Python311\\Lib\\site-packages\\keras\\src\\optimizers\\__init__.py:309: The name tf.train.Optimizer is deprecated. Please use tf.compat.v1.train.Optimizer instead.\n",
      "\n"
     ]
    }
   ],
   "source": [
    "# compilar o modelo\n",
    "model.compile(\n",
    "    optimizer = 'adam',\n",
    "    loss = 'binary_crossentropy', # mais próximo de 0 melhor, 0.002 por exemplo\n",
    "    metrics = ['accuracy']\n",
    ")"
   ]
  },
  {
   "cell_type": "code",
   "execution_count": 8,
   "metadata": {},
   "outputs": [
    {
     "name": "stdout",
     "output_type": "stream",
     "text": [
      "Epoch 1/50\n",
      "WARNING:tensorflow:From c:\\Users\\Cleiton\\AppData\\Local\\Programs\\Python\\Python311\\Lib\\site-packages\\keras\\src\\utils\\tf_utils.py:492: The name tf.ragged.RaggedTensorValue is deprecated. Please use tf.compat.v1.ragged.RaggedTensorValue instead.\n",
      "\n",
      "WARNING:tensorflow:From c:\\Users\\Cleiton\\AppData\\Local\\Programs\\Python\\Python311\\Lib\\site-packages\\keras\\src\\engine\\base_layer_utils.py:384: The name tf.executing_eagerly_outside_functions is deprecated. Please use tf.compat.v1.executing_eagerly_outside_functions instead.\n",
      "\n",
      "2/2 [==============================] - 2s 480ms/step - loss: 1.5557 - accuracy: 0.4667 - val_loss: 0.6275 - val_accuracy: 0.6923\n",
      "Epoch 2/50\n",
      "2/2 [==============================] - 0s 335ms/step - loss: 0.8663 - accuracy: 0.4667 - val_loss: 0.6373 - val_accuracy: 0.6154\n",
      "Epoch 3/50\n",
      "2/2 [==============================] - 0s 171ms/step - loss: 0.9448 - accuracy: 0.4444 - val_loss: 0.6309 - val_accuracy: 0.6923\n",
      "Epoch 4/50\n",
      "2/2 [==============================] - 0s 311ms/step - loss: 0.6494 - accuracy: 0.6000 - val_loss: 0.5806 - val_accuracy: 0.7692\n",
      "Epoch 5/50\n",
      "2/2 [==============================] - 0s 291ms/step - loss: 0.7048 - accuracy: 0.5111 - val_loss: 0.6384 - val_accuracy: 0.4615\n",
      "Epoch 6/50\n",
      "2/2 [==============================] - 0s 162ms/step - loss: 0.6801 - accuracy: 0.5333 - val_loss: 0.5543 - val_accuracy: 0.9231\n",
      "Epoch 7/50\n",
      "2/2 [==============================] - 0s 158ms/step - loss: 0.6147 - accuracy: 0.6444 - val_loss: 0.5102 - val_accuracy: 0.8462\n",
      "Epoch 8/50\n",
      "2/2 [==============================] - 0s 166ms/step - loss: 0.5606 - accuracy: 0.7333 - val_loss: 0.4500 - val_accuracy: 0.8462\n",
      "Epoch 9/50\n",
      "2/2 [==============================] - 0s 285ms/step - loss: 0.5619 - accuracy: 0.6667 - val_loss: 0.3918 - val_accuracy: 0.7692\n",
      "Epoch 10/50\n",
      "2/2 [==============================] - 0s 161ms/step - loss: 0.5136 - accuracy: 0.7778 - val_loss: 0.4306 - val_accuracy: 0.7692\n",
      "Epoch 11/50\n",
      "2/2 [==============================] - 0s 290ms/step - loss: 0.4928 - accuracy: 0.7778 - val_loss: 0.3158 - val_accuracy: 1.0000\n",
      "Epoch 12/50\n",
      "2/2 [==============================] - 0s 154ms/step - loss: 0.4739 - accuracy: 0.7778 - val_loss: 0.2913 - val_accuracy: 0.9231\n",
      "Epoch 13/50\n",
      "2/2 [==============================] - 0s 152ms/step - loss: 0.3690 - accuracy: 0.8444 - val_loss: 0.3324 - val_accuracy: 0.8462\n",
      "Epoch 14/50\n",
      "2/2 [==============================] - 0s 160ms/step - loss: 0.4809 - accuracy: 0.7111 - val_loss: 0.2863 - val_accuracy: 0.8462\n",
      "Epoch 15/50\n",
      "2/2 [==============================] - 0s 156ms/step - loss: 0.3284 - accuracy: 0.8444 - val_loss: 0.2273 - val_accuracy: 0.9231\n",
      "Epoch 16/50\n",
      "2/2 [==============================] - 0s 293ms/step - loss: 0.4082 - accuracy: 0.7778 - val_loss: 0.1753 - val_accuracy: 1.0000\n",
      "Epoch 17/50\n",
      "2/2 [==============================] - 0s 160ms/step - loss: 0.3517 - accuracy: 0.8667 - val_loss: 0.2451 - val_accuracy: 0.8462\n",
      "Epoch 18/50\n",
      "2/2 [==============================] - 0s 285ms/step - loss: 0.3059 - accuracy: 0.9111 - val_loss: 0.2080 - val_accuracy: 0.8462\n",
      "Epoch 19/50\n",
      "2/2 [==============================] - 0s 166ms/step - loss: 0.2264 - accuracy: 0.9111 - val_loss: 0.1826 - val_accuracy: 1.0000\n",
      "Epoch 20/50\n",
      "2/2 [==============================] - 0s 161ms/step - loss: 0.2654 - accuracy: 0.8889 - val_loss: 0.1840 - val_accuracy: 0.8462\n",
      "Epoch 21/50\n",
      "2/2 [==============================] - 0s 180ms/step - loss: 0.2853 - accuracy: 0.8889 - val_loss: 0.2658 - val_accuracy: 0.8462\n",
      "Epoch 22/50\n",
      "2/2 [==============================] - 0s 174ms/step - loss: 0.2368 - accuracy: 0.9111 - val_loss: 0.1609 - val_accuracy: 0.9231\n",
      "Epoch 23/50\n",
      "2/2 [==============================] - 0s 278ms/step - loss: 0.3162 - accuracy: 0.8667 - val_loss: 0.1972 - val_accuracy: 0.9231\n",
      "Epoch 24/50\n",
      "2/2 [==============================] - 0s 285ms/step - loss: 0.2708 - accuracy: 0.8444 - val_loss: 0.1896 - val_accuracy: 0.8462\n",
      "Epoch 25/50\n",
      "2/2 [==============================] - 0s 163ms/step - loss: 0.2469 - accuracy: 0.8889 - val_loss: 0.1312 - val_accuracy: 1.0000\n",
      "Epoch 26/50\n",
      "2/2 [==============================] - 0s 270ms/step - loss: 0.1255 - accuracy: 0.9778 - val_loss: 0.1856 - val_accuracy: 0.9231\n",
      "Epoch 27/50\n",
      "2/2 [==============================] - 0s 295ms/step - loss: 0.1817 - accuracy: 0.9111 - val_loss: 0.1953 - val_accuracy: 0.8462\n",
      "Epoch 28/50\n",
      "2/2 [==============================] - 0s 300ms/step - loss: 0.1641 - accuracy: 0.9333 - val_loss: 0.1078 - val_accuracy: 1.0000\n",
      "Epoch 29/50\n",
      "2/2 [==============================] - 0s 271ms/step - loss: 0.2080 - accuracy: 0.9111 - val_loss: 0.0675 - val_accuracy: 1.0000\n",
      "Epoch 30/50\n",
      "2/2 [==============================] - 0s 161ms/step - loss: 0.1263 - accuracy: 0.9556 - val_loss: 0.2855 - val_accuracy: 0.8462\n",
      "Epoch 31/50\n",
      "2/2 [==============================] - 0s 161ms/step - loss: 0.2379 - accuracy: 0.9556 - val_loss: 0.2054 - val_accuracy: 0.9231\n",
      "Epoch 32/50\n",
      "2/2 [==============================] - 0s 166ms/step - loss: 0.1644 - accuracy: 0.8667 - val_loss: 0.1461 - val_accuracy: 0.9231\n",
      "Epoch 33/50\n",
      "2/2 [==============================] - 0s 277ms/step - loss: 0.1489 - accuracy: 0.9556 - val_loss: 0.1779 - val_accuracy: 0.9231\n",
      "Epoch 34/50\n",
      "2/2 [==============================] - 0s 156ms/step - loss: 0.1335 - accuracy: 0.9333 - val_loss: 0.1393 - val_accuracy: 0.8462\n",
      "Epoch 35/50\n",
      "2/2 [==============================] - 0s 277ms/step - loss: 0.1212 - accuracy: 0.9778 - val_loss: 0.2443 - val_accuracy: 0.8462\n",
      "Epoch 36/50\n",
      "2/2 [==============================] - 0s 159ms/step - loss: 0.0877 - accuracy: 0.9778 - val_loss: 0.0807 - val_accuracy: 1.0000\n",
      "Epoch 37/50\n",
      "2/2 [==============================] - 0s 281ms/step - loss: 0.1626 - accuracy: 0.9333 - val_loss: 0.2455 - val_accuracy: 0.8462\n",
      "Epoch 38/50\n",
      "2/2 [==============================] - 0s 287ms/step - loss: 0.2411 - accuracy: 0.8889 - val_loss: 0.2355 - val_accuracy: 0.8462\n",
      "Epoch 39/50\n",
      "2/2 [==============================] - 0s 296ms/step - loss: 0.0915 - accuracy: 0.9778 - val_loss: 0.0999 - val_accuracy: 1.0000\n",
      "Epoch 40/50\n",
      "2/2 [==============================] - 0s 164ms/step - loss: 0.0989 - accuracy: 0.9556 - val_loss: 0.1994 - val_accuracy: 0.8462\n",
      "Epoch 41/50\n",
      "2/2 [==============================] - 0s 308ms/step - loss: 0.2367 - accuracy: 0.9111 - val_loss: 0.1095 - val_accuracy: 0.9231\n",
      "Epoch 42/50\n",
      "2/2 [==============================] - 0s 179ms/step - loss: 0.0955 - accuracy: 0.9778 - val_loss: 0.1552 - val_accuracy: 0.9231\n",
      "Epoch 43/50\n",
      "2/2 [==============================] - 0s 285ms/step - loss: 0.1377 - accuracy: 0.9778 - val_loss: 0.2209 - val_accuracy: 0.8462\n",
      "Epoch 44/50\n",
      "2/2 [==============================] - 0s 178ms/step - loss: 0.1446 - accuracy: 0.9333 - val_loss: 0.1479 - val_accuracy: 0.9231\n",
      "Epoch 45/50\n",
      "2/2 [==============================] - 0s 172ms/step - loss: 0.0643 - accuracy: 0.9778 - val_loss: 0.2043 - val_accuracy: 0.9231\n",
      "Epoch 46/50\n",
      "2/2 [==============================] - 0s 279ms/step - loss: 0.1244 - accuracy: 0.9333 - val_loss: 0.1473 - val_accuracy: 0.9231\n",
      "Epoch 47/50\n",
      "2/2 [==============================] - 0s 167ms/step - loss: 0.0989 - accuracy: 0.9556 - val_loss: 0.1705 - val_accuracy: 0.8462\n",
      "Epoch 48/50\n",
      "2/2 [==============================] - 0s 273ms/step - loss: 0.1271 - accuracy: 0.9556 - val_loss: 0.0669 - val_accuracy: 1.0000\n",
      "Epoch 49/50\n",
      "2/2 [==============================] - 0s 310ms/step - loss: 0.0277 - accuracy: 1.0000 - val_loss: 0.0569 - val_accuracy: 1.0000\n",
      "Epoch 50/50\n",
      "2/2 [==============================] - 0s 291ms/step - loss: 0.0864 - accuracy: 0.9556 - val_loss: 0.1573 - val_accuracy: 0.9231\n",
      "Treinamento concluído!\n"
     ]
    }
   ],
   "source": [
    "# treinamento\n",
    "model.fit(\n",
    "    train_generator,\n",
    "    epochs = num_epochs,\n",
    "    validation_data = validation_generator\n",
    ")\n",
    "\n",
    "print('Treinamento concluído!')\n",
    "\n",
    "# salvar o modelo\n",
    "model.save('cfCleitonFerrugem.keras')"
   ]
  }
 ],
 "metadata": {
  "kernelspec": {
   "display_name": "Python 3 (ipykernel)",
   "language": "python",
   "name": "python3"
  },
  "language_info": {
   "codemirror_mode": {
    "name": "ipython",
    "version": 3
   },
   "file_extension": ".py",
   "mimetype": "text/x-python",
   "name": "python",
   "nbconvert_exporter": "python",
   "pygments_lexer": "ipython3",
   "version": "3.11.6"
  },
  "widgets": {
   "application/vnd.jupyter.widget-state+json": {
    "state": {},
    "version_major": 2,
    "version_minor": 0
   }
  }
 },
 "nbformat": 4,
 "nbformat_minor": 4
}
