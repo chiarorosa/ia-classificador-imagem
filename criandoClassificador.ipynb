{
 "cells": [
  {
   "cell_type": "code",
   "execution_count": 1,
   "metadata": {},
   "outputs": [
    {
     "name": "stdout",
     "output_type": "stream",
     "text": [
      "WARNING:tensorflow:From c:\\Users\\Cleiton\\AppData\\Local\\Programs\\Python\\Python311\\Lib\\site-packages\\keras\\src\\losses.py:2976: The name tf.losses.sparse_softmax_cross_entropy is deprecated. Please use tf.compat.v1.losses.sparse_softmax_cross_entropy instead.\n",
      "\n"
     ]
    }
   ],
   "source": [
    "import tensorflow as tf\n",
    "import scipy, numpy\n",
    "\n",
    "from tensorflow.keras.preprocessing.image import ImageDataGenerator\n",
    "from tensorflow.keras.models import Sequential\n",
    "from tensorflow.keras.layers import Conv2D, MaxPooling2D, Flatten, Dense, Dropout"
   ]
  },
  {
   "cell_type": "code",
   "execution_count": 2,
   "metadata": {},
   "outputs": [],
   "source": [
    "# Configurações para o treinamento\n",
    "train_data_dir = './data'\n",
    "batch_size = 32 # 32 imagens por lote\n",
    "num_epochs = 50 # 50 épocas de treinamento\n",
    "image_size = (150, 150) # 150x150 pixels\n",
    "num_classes = 2 # 2 classes: porco e gato"
   ]
  },
  {
   "cell_type": "code",
   "execution_count": 3,
   "metadata": {},
   "outputs": [],
   "source": [
    "train_datagen = ImageDataGenerator(\n",
    "    rescale = 1.0/255,\n",
    "    validation_split = 0.25, # 25% para validação\n",
    "    shear_range = 0.2, # inclinação\n",
    "    zoom_range = 0.2, # zoom\n",
    "    horizontal_flip = True # espelhamento horizontal\n",
    ")"
   ]
  },
  {
   "cell_type": "code",
   "execution_count": 4,
   "metadata": {},
   "outputs": [
    {
     "name": "stdout",
     "output_type": "stream",
     "text": [
      "Found 45 images belonging to 2 classes.\n"
     ]
    }
   ],
   "source": [
    "train_generator = train_datagen.flow_from_directory(\n",
    "    train_data_dir,\n",
    "    target_size = image_size,\n",
    "    batch_size = batch_size,\n",
    "    class_mode = 'binary',\n",
    "    subset = 'training'\n",
    ")"
   ]
  },
  {
   "cell_type": "code",
   "execution_count": 5,
   "metadata": {},
   "outputs": [
    {
     "name": "stdout",
     "output_type": "stream",
     "text": [
      "Found 13 images belonging to 2 classes.\n"
     ]
    }
   ],
   "source": [
    "validation_generator = train_datagen.flow_from_directory(\n",
    "    train_data_dir,\n",
    "    target_size = image_size,\n",
    "    batch_size = batch_size,\n",
    "    class_mode = 'binary',\n",
    "    subset = 'validation'\n",
    ")"
   ]
  },
  {
   "cell_type": "code",
   "execution_count": 6,
   "metadata": {},
   "outputs": [
    {
     "name": "stdout",
     "output_type": "stream",
     "text": [
      "WARNING:tensorflow:From c:\\Users\\Cleiton\\AppData\\Local\\Programs\\Python\\Python311\\Lib\\site-packages\\keras\\src\\backend.py:873: The name tf.get_default_graph is deprecated. Please use tf.compat.v1.get_default_graph instead.\n",
      "\n",
      "WARNING:tensorflow:From c:\\Users\\Cleiton\\AppData\\Local\\Programs\\Python\\Python311\\Lib\\site-packages\\keras\\src\\layers\\pooling\\max_pooling2d.py:161: The name tf.nn.max_pool is deprecated. Please use tf.nn.max_pool2d instead.\n",
      "\n"
     ]
    }
   ],
   "source": [
    "model = Sequential() # instanciando o modelo\n",
    "model.add(Conv2D(32, (3,3), input_shape=(image_size[0], image_size[1], 3), activation='relu')) # camada de convolução\n",
    "model.add(MaxPooling2D(pool_size=(2,2))) # camada de pooling\n",
    "model.add(Conv2D(64, (3,3), activation='relu')) # camada de convolução\n",
    "model.add(MaxPooling2D(pool_size=(2,2))) # camada de pooling\n",
    "model.add(Flatten()) # camada de achatamento ou vetorização\n",
    "model.add(Dense(64, activation='relu')) # neurônios\n",
    "model.add(Dropout(0.5)) # regularização 50% chance de desligar neurônios\n",
    "model.add(Dense(1, activation='sigmoid')) # camada de saída (classificação binária)"
   ]
  },
  {
   "cell_type": "code",
   "execution_count": 7,
   "metadata": {},
   "outputs": [
    {
     "name": "stdout",
     "output_type": "stream",
     "text": [
      "WARNING:tensorflow:From c:\\Users\\Cleiton\\AppData\\Local\\Programs\\Python\\Python311\\Lib\\site-packages\\keras\\src\\optimizers\\__init__.py:309: The name tf.train.Optimizer is deprecated. Please use tf.compat.v1.train.Optimizer instead.\n",
      "\n"
     ]
    }
   ],
   "source": [
    "# compilar o modelo\n",
    "model.compile(\n",
    "    optimizer = 'adam',\n",
    "    loss = 'binary_crossentropy', # mais próximo de 0 melhor, 0.002 por exemplo\n",
    "    metrics = ['accuracy']\n",
    ")"
   ]
  },
  {
   "cell_type": "code",
   "execution_count": 9,
   "metadata": {},
   "outputs": [
    {
     "name": "stdout",
     "output_type": "stream",
     "text": [
      "Epoch 1/50\n",
      "2/2 [==============================] - 1s 505ms/step - loss: 0.0144 - accuracy: 1.0000 - val_loss: 1.2913 - val_accuracy: 0.8333\n",
      "Epoch 2/50\n",
      "2/2 [==============================] - 2s 441ms/step - loss: 0.0118 - accuracy: 1.0000 - val_loss: 1.4078 - val_accuracy: 0.8333\n",
      "Epoch 3/50\n",
      "2/2 [==============================] - 2s 516ms/step - loss: 0.0085 - accuracy: 1.0000 - val_loss: 1.5973 - val_accuracy: 0.8333\n",
      "Epoch 4/50\n",
      "2/2 [==============================] - 2s 511ms/step - loss: 0.0628 - accuracy: 0.9737 - val_loss: 1.7865 - val_accuracy: 0.7500\n",
      "Epoch 5/50\n",
      "2/2 [==============================] - 1s 1s/step - loss: 0.0190 - accuracy: 1.0000 - val_loss: 1.7483 - val_accuracy: 0.8333\n",
      "Epoch 6/50\n",
      "2/2 [==============================] - 2s 1s/step - loss: 0.0081 - accuracy: 1.0000 - val_loss: 1.7797 - val_accuracy: 0.8333\n",
      "Epoch 7/50\n",
      "2/2 [==============================] - 2s 508ms/step - loss: 0.0039 - accuracy: 1.0000 - val_loss: 1.8962 - val_accuracy: 0.8333\n",
      "Epoch 8/50\n",
      "2/2 [==============================] - 1s 382ms/step - loss: 0.0102 - accuracy: 1.0000 - val_loss: 1.9709 - val_accuracy: 0.8333\n",
      "Epoch 9/50\n",
      "2/2 [==============================] - 2s 1s/step - loss: 0.0116 - accuracy: 1.0000 - val_loss: 1.7128 - val_accuracy: 0.8333\n",
      "Epoch 10/50\n",
      "2/2 [==============================] - 2s 397ms/step - loss: 0.0047 - accuracy: 1.0000 - val_loss: 1.9998 - val_accuracy: 0.8333\n",
      "Epoch 11/50\n",
      "2/2 [==============================] - 2s 376ms/step - loss: 0.0016 - accuracy: 1.0000 - val_loss: 1.9228 - val_accuracy: 0.8333\n",
      "Epoch 12/50\n",
      "2/2 [==============================] - 1s 1s/step - loss: 0.0032 - accuracy: 1.0000 - val_loss: 1.9418 - val_accuracy: 0.8333\n",
      "Epoch 13/50\n",
      "2/2 [==============================] - 1s 370ms/step - loss: 0.0018 - accuracy: 1.0000 - val_loss: 2.1980 - val_accuracy: 0.8333\n",
      "Epoch 14/50\n",
      "2/2 [==============================] - 1s 942ms/step - loss: 0.0031 - accuracy: 1.0000 - val_loss: 2.0967 - val_accuracy: 0.8333\n",
      "Epoch 15/50\n",
      "2/2 [==============================] - 1s 920ms/step - loss: 0.0061 - accuracy: 1.0000 - val_loss: 2.2194 - val_accuracy: 0.8333\n",
      "Epoch 16/50\n",
      "2/2 [==============================] - 1s 958ms/step - loss: 0.0019 - accuracy: 1.0000 - val_loss: 2.1324 - val_accuracy: 0.8333\n",
      "Epoch 17/50\n",
      "2/2 [==============================] - 1s 378ms/step - loss: 0.0145 - accuracy: 1.0000 - val_loss: 2.3056 - val_accuracy: 0.8333\n",
      "Epoch 18/50\n",
      "2/2 [==============================] - 1s 374ms/step - loss: 0.0142 - accuracy: 1.0000 - val_loss: 2.2731 - val_accuracy: 0.8333\n",
      "Epoch 19/50\n",
      "2/2 [==============================] - 1s 919ms/step - loss: 0.0125 - accuracy: 1.0000 - val_loss: 2.2041 - val_accuracy: 0.8333\n",
      "Epoch 20/50\n",
      "2/2 [==============================] - 1s 927ms/step - loss: 0.0095 - accuracy: 1.0000 - val_loss: 2.0544 - val_accuracy: 0.8333\n",
      "Epoch 21/50\n",
      "2/2 [==============================] - 1s 942ms/step - loss: 0.0041 - accuracy: 1.0000 - val_loss: 2.1129 - val_accuracy: 0.8333\n",
      "Epoch 22/50\n",
      "2/2 [==============================] - 1s 945ms/step - loss: 0.0022 - accuracy: 1.0000 - val_loss: 1.6648 - val_accuracy: 0.8333\n",
      "Epoch 23/50\n",
      "2/2 [==============================] - 1s 369ms/step - loss: 0.0094 - accuracy: 1.0000 - val_loss: 1.8230 - val_accuracy: 0.8333\n",
      "Epoch 24/50\n",
      "2/2 [==============================] - 1s 369ms/step - loss: 0.0037 - accuracy: 1.0000 - val_loss: 2.0619 - val_accuracy: 0.8333\n",
      "Epoch 25/50\n",
      "2/2 [==============================] - 1s 998ms/step - loss: 0.0015 - accuracy: 1.0000 - val_loss: 1.9872 - val_accuracy: 0.8333\n",
      "Epoch 26/50\n",
      "2/2 [==============================] - 1s 961ms/step - loss: 0.0036 - accuracy: 1.0000 - val_loss: 1.6569 - val_accuracy: 0.8333\n",
      "Epoch 27/50\n",
      "2/2 [==============================] - 1s 365ms/step - loss: 0.0041 - accuracy: 1.0000 - val_loss: 1.9217 - val_accuracy: 0.8333\n",
      "Epoch 28/50\n",
      "2/2 [==============================] - 1s 937ms/step - loss: 0.0011 - accuracy: 1.0000 - val_loss: 2.3216 - val_accuracy: 0.8333\n",
      "Epoch 29/50\n",
      "2/2 [==============================] - 1s 364ms/step - loss: 8.6924e-04 - accuracy: 1.0000 - val_loss: 2.1285 - val_accuracy: 0.8333\n",
      "Epoch 30/50\n",
      "2/2 [==============================] - 1s 990ms/step - loss: 1.2081e-04 - accuracy: 1.0000 - val_loss: 2.4772 - val_accuracy: 0.8333\n",
      "Epoch 31/50\n",
      "2/2 [==============================] - 1s 373ms/step - loss: 0.0019 - accuracy: 1.0000 - val_loss: 2.4333 - val_accuracy: 0.8333\n",
      "Epoch 32/50\n",
      "2/2 [==============================] - 1s 943ms/step - loss: 0.0011 - accuracy: 1.0000 - val_loss: 2.5068 - val_accuracy: 0.8333\n",
      "Epoch 33/50\n",
      "2/2 [==============================] - 1s 377ms/step - loss: 0.0030 - accuracy: 1.0000 - val_loss: 2.5159 - val_accuracy: 0.8333\n",
      "Epoch 34/50\n",
      "2/2 [==============================] - 1s 376ms/step - loss: 0.0096 - accuracy: 1.0000 - val_loss: 2.1798 - val_accuracy: 0.8333\n",
      "Epoch 35/50\n",
      "2/2 [==============================] - 1s 949ms/step - loss: 3.4149e-04 - accuracy: 1.0000 - val_loss: 2.1474 - val_accuracy: 0.8333\n",
      "Epoch 36/50\n",
      "2/2 [==============================] - 1s 369ms/step - loss: 8.1489e-04 - accuracy: 1.0000 - val_loss: 1.7976 - val_accuracy: 0.8333\n",
      "Epoch 37/50\n",
      "2/2 [==============================] - 1s 1s/step - loss: 0.0052 - accuracy: 1.0000 - val_loss: 2.0505 - val_accuracy: 0.8333\n",
      "Epoch 38/50\n",
      "2/2 [==============================] - 1s 366ms/step - loss: 0.0022 - accuracy: 1.0000 - val_loss: 2.0277 - val_accuracy: 0.7500\n",
      "Epoch 39/50\n",
      "2/2 [==============================] - 1s 990ms/step - loss: 1.6818e-04 - accuracy: 1.0000 - val_loss: 2.0872 - val_accuracy: 0.8333\n",
      "Epoch 40/50\n",
      "2/2 [==============================] - 1s 416ms/step - loss: 0.0011 - accuracy: 1.0000 - val_loss: 2.2105 - val_accuracy: 0.8333\n",
      "Epoch 41/50\n",
      "2/2 [==============================] - 1s 928ms/step - loss: 0.0030 - accuracy: 1.0000 - val_loss: 2.1713 - val_accuracy: 0.8333\n",
      "Epoch 42/50\n",
      "2/2 [==============================] - 1s 378ms/step - loss: 5.8966e-04 - accuracy: 1.0000 - val_loss: 1.9908 - val_accuracy: 0.8333\n",
      "Epoch 43/50\n",
      "2/2 [==============================] - 1s 382ms/step - loss: 0.0023 - accuracy: 1.0000 - val_loss: 2.3401 - val_accuracy: 0.8333\n",
      "Epoch 44/50\n",
      "2/2 [==============================] - 1s 376ms/step - loss: 0.0023 - accuracy: 1.0000 - val_loss: 2.0577 - val_accuracy: 0.8333\n",
      "Epoch 45/50\n",
      "2/2 [==============================] - 1s 373ms/step - loss: 7.5835e-04 - accuracy: 1.0000 - val_loss: 2.2900 - val_accuracy: 0.8333\n",
      "Epoch 46/50\n",
      "2/2 [==============================] - 1s 933ms/step - loss: 3.3999e-04 - accuracy: 1.0000 - val_loss: 2.0905 - val_accuracy: 0.8333\n",
      "Epoch 47/50\n",
      "2/2 [==============================] - 1s 366ms/step - loss: 0.0049 - accuracy: 1.0000 - val_loss: 2.2433 - val_accuracy: 0.8333\n",
      "Epoch 48/50\n",
      "2/2 [==============================] - 1s 377ms/step - loss: 0.0072 - accuracy: 1.0000 - val_loss: 2.2376 - val_accuracy: 0.8333\n",
      "Epoch 49/50\n",
      "2/2 [==============================] - 1s 918ms/step - loss: 6.1188e-04 - accuracy: 1.0000 - val_loss: 2.3593 - val_accuracy: 0.8333\n",
      "Epoch 50/50\n",
      "2/2 [==============================] - 1s 934ms/step - loss: 0.0016 - accuracy: 1.0000 - val_loss: 2.3771 - val_accuracy: 0.8333\n",
      "Treinamento concluído!\n"
     ]
    }
   ],
   "source": [
    "# treinamento\n",
    "model.fit(\n",
    "    train_generator,\n",
    "    epochs = num_epochs,\n",
    "    validation_data = validation_generator\n",
    ")\n",
    "\n",
    "print('Treinamento concluído!')\n",
    "\n",
    "# salvar o modelo\n",
    "model.save('cfCleitonFerrugem.keras')"
   ]
  }
 ],
 "metadata": {
  "kernelspec": {
   "display_name": "Python 3 (ipykernel)",
   "language": "python",
   "name": "python3"
  },
  "language_info": {
   "codemirror_mode": {
    "name": "ipython",
    "version": 3
   },
   "file_extension": ".py",
   "mimetype": "text/x-python",
   "name": "python",
   "nbconvert_exporter": "python",
   "pygments_lexer": "ipython3",
   "version": "3.11.6"
  },
  "widgets": {
   "application/vnd.jupyter.widget-state+json": {
    "state": {},
    "version_major": 2,
    "version_minor": 0
   }
  }
 },
 "nbformat": 4,
 "nbformat_minor": 4
}
