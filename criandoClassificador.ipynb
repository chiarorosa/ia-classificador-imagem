{
 "cells": [
  {
   "cell_type": "code",
   "execution_count": 13,
   "metadata": {},
   "outputs": [
    {
     "name": "stdout",
     "output_type": "stream",
     "text": [
      "Requirement already satisfied: tensorflow in /Users/sabinoprog/anaconda3/lib/python3.11/site-packages (2.14.0)\n",
      "Requirement already satisfied: tensorflow-macos==2.14.0 in /Users/sabinoprog/anaconda3/lib/python3.11/site-packages (from tensorflow) (2.14.0)\n",
      "Requirement already satisfied: absl-py>=1.0.0 in /Users/sabinoprog/anaconda3/lib/python3.11/site-packages (from tensorflow-macos==2.14.0->tensorflow) (2.0.0)\n",
      "Requirement already satisfied: astunparse>=1.6.0 in /Users/sabinoprog/anaconda3/lib/python3.11/site-packages (from tensorflow-macos==2.14.0->tensorflow) (1.6.3)\n",
      "Requirement already satisfied: flatbuffers>=23.5.26 in /Users/sabinoprog/anaconda3/lib/python3.11/site-packages (from tensorflow-macos==2.14.0->tensorflow) (23.5.26)\n",
      "Requirement already satisfied: gast!=0.5.0,!=0.5.1,!=0.5.2,>=0.2.1 in /Users/sabinoprog/anaconda3/lib/python3.11/site-packages (from tensorflow-macos==2.14.0->tensorflow) (0.5.4)\n",
      "Requirement already satisfied: google-pasta>=0.1.1 in /Users/sabinoprog/anaconda3/lib/python3.11/site-packages (from tensorflow-macos==2.14.0->tensorflow) (0.2.0)\n",
      "Requirement already satisfied: h5py>=2.9.0 in /Users/sabinoprog/anaconda3/lib/python3.11/site-packages (from tensorflow-macos==2.14.0->tensorflow) (3.9.0)\n",
      "Requirement already satisfied: libclang>=13.0.0 in /Users/sabinoprog/anaconda3/lib/python3.11/site-packages (from tensorflow-macos==2.14.0->tensorflow) (16.0.6)\n",
      "Requirement already satisfied: ml-dtypes==0.2.0 in /Users/sabinoprog/anaconda3/lib/python3.11/site-packages (from tensorflow-macos==2.14.0->tensorflow) (0.2.0)\n",
      "Requirement already satisfied: numpy>=1.23.5 in /Users/sabinoprog/anaconda3/lib/python3.11/site-packages (from tensorflow-macos==2.14.0->tensorflow) (1.24.3)\n",
      "Requirement already satisfied: opt-einsum>=2.3.2 in /Users/sabinoprog/anaconda3/lib/python3.11/site-packages (from tensorflow-macos==2.14.0->tensorflow) (3.3.0)\n",
      "Requirement already satisfied: packaging in /Users/sabinoprog/anaconda3/lib/python3.11/site-packages (from tensorflow-macos==2.14.0->tensorflow) (23.1)\n",
      "Requirement already satisfied: protobuf!=4.21.0,!=4.21.1,!=4.21.2,!=4.21.3,!=4.21.4,!=4.21.5,<5.0.0dev,>=3.20.3 in /Users/sabinoprog/anaconda3/lib/python3.11/site-packages (from tensorflow-macos==2.14.0->tensorflow) (4.25.0)\n",
      "Requirement already satisfied: setuptools in /Users/sabinoprog/anaconda3/lib/python3.11/site-packages (from tensorflow-macos==2.14.0->tensorflow) (68.0.0)\n",
      "Requirement already satisfied: six>=1.12.0 in /Users/sabinoprog/anaconda3/lib/python3.11/site-packages (from tensorflow-macos==2.14.0->tensorflow) (1.16.0)\n",
      "Requirement already satisfied: termcolor>=1.1.0 in /Users/sabinoprog/anaconda3/lib/python3.11/site-packages (from tensorflow-macos==2.14.0->tensorflow) (2.3.0)\n",
      "Requirement already satisfied: typing-extensions>=3.6.6 in /Users/sabinoprog/anaconda3/lib/python3.11/site-packages (from tensorflow-macos==2.14.0->tensorflow) (4.7.1)\n",
      "Requirement already satisfied: wrapt<1.15,>=1.11.0 in /Users/sabinoprog/anaconda3/lib/python3.11/site-packages (from tensorflow-macos==2.14.0->tensorflow) (1.14.1)\n",
      "Requirement already satisfied: tensorflow-io-gcs-filesystem>=0.23.1 in /Users/sabinoprog/anaconda3/lib/python3.11/site-packages (from tensorflow-macos==2.14.0->tensorflow) (0.34.0)\n",
      "Requirement already satisfied: grpcio<2.0,>=1.24.3 in /Users/sabinoprog/anaconda3/lib/python3.11/site-packages (from tensorflow-macos==2.14.0->tensorflow) (1.59.2)\n",
      "Requirement already satisfied: tensorboard<2.15,>=2.14 in /Users/sabinoprog/anaconda3/lib/python3.11/site-packages (from tensorflow-macos==2.14.0->tensorflow) (2.14.1)\n",
      "Requirement already satisfied: tensorflow-estimator<2.15,>=2.14.0 in /Users/sabinoprog/anaconda3/lib/python3.11/site-packages (from tensorflow-macos==2.14.0->tensorflow) (2.14.0)\n",
      "Requirement already satisfied: keras<2.15,>=2.14.0 in /Users/sabinoprog/anaconda3/lib/python3.11/site-packages (from tensorflow-macos==2.14.0->tensorflow) (2.14.0)\n",
      "Requirement already satisfied: wheel<1.0,>=0.23.0 in /Users/sabinoprog/anaconda3/lib/python3.11/site-packages (from astunparse>=1.6.0->tensorflow-macos==2.14.0->tensorflow) (0.38.4)\n",
      "Requirement already satisfied: google-auth<3,>=1.6.3 in /Users/sabinoprog/anaconda3/lib/python3.11/site-packages (from tensorboard<2.15,>=2.14->tensorflow-macos==2.14.0->tensorflow) (2.23.4)\n",
      "Requirement already satisfied: google-auth-oauthlib<1.1,>=0.5 in /Users/sabinoprog/anaconda3/lib/python3.11/site-packages (from tensorboard<2.15,>=2.14->tensorflow-macos==2.14.0->tensorflow) (1.0.0)\n",
      "Requirement already satisfied: markdown>=2.6.8 in /Users/sabinoprog/anaconda3/lib/python3.11/site-packages (from tensorboard<2.15,>=2.14->tensorflow-macos==2.14.0->tensorflow) (3.4.1)\n",
      "Requirement already satisfied: requests<3,>=2.21.0 in /Users/sabinoprog/anaconda3/lib/python3.11/site-packages (from tensorboard<2.15,>=2.14->tensorflow-macos==2.14.0->tensorflow) (2.31.0)\n",
      "Requirement already satisfied: tensorboard-data-server<0.8.0,>=0.7.0 in /Users/sabinoprog/anaconda3/lib/python3.11/site-packages (from tensorboard<2.15,>=2.14->tensorflow-macos==2.14.0->tensorflow) (0.7.2)\n",
      "Requirement already satisfied: werkzeug>=1.0.1 in /Users/sabinoprog/anaconda3/lib/python3.11/site-packages (from tensorboard<2.15,>=2.14->tensorflow-macos==2.14.0->tensorflow) (2.2.3)\n",
      "Requirement already satisfied: cachetools<6.0,>=2.0.0 in /Users/sabinoprog/anaconda3/lib/python3.11/site-packages (from google-auth<3,>=1.6.3->tensorboard<2.15,>=2.14->tensorflow-macos==2.14.0->tensorflow) (5.3.2)\n",
      "Requirement already satisfied: pyasn1-modules>=0.2.1 in /Users/sabinoprog/anaconda3/lib/python3.11/site-packages (from google-auth<3,>=1.6.3->tensorboard<2.15,>=2.14->tensorflow-macos==2.14.0->tensorflow) (0.2.8)\n",
      "Requirement already satisfied: rsa<5,>=3.1.4 in /Users/sabinoprog/anaconda3/lib/python3.11/site-packages (from google-auth<3,>=1.6.3->tensorboard<2.15,>=2.14->tensorflow-macos==2.14.0->tensorflow) (4.9)\n",
      "Requirement already satisfied: requests-oauthlib>=0.7.0 in /Users/sabinoprog/anaconda3/lib/python3.11/site-packages (from google-auth-oauthlib<1.1,>=0.5->tensorboard<2.15,>=2.14->tensorflow-macos==2.14.0->tensorflow) (1.3.1)\n",
      "Requirement already satisfied: charset-normalizer<4,>=2 in /Users/sabinoprog/anaconda3/lib/python3.11/site-packages (from requests<3,>=2.21.0->tensorboard<2.15,>=2.14->tensorflow-macos==2.14.0->tensorflow) (2.0.4)\n",
      "Requirement already satisfied: idna<4,>=2.5 in /Users/sabinoprog/anaconda3/lib/python3.11/site-packages (from requests<3,>=2.21.0->tensorboard<2.15,>=2.14->tensorflow-macos==2.14.0->tensorflow) (3.4)\n",
      "Requirement already satisfied: urllib3<3,>=1.21.1 in /Users/sabinoprog/anaconda3/lib/python3.11/site-packages (from requests<3,>=2.21.0->tensorboard<2.15,>=2.14->tensorflow-macos==2.14.0->tensorflow) (1.26.16)\n",
      "Requirement already satisfied: certifi>=2017.4.17 in /Users/sabinoprog/anaconda3/lib/python3.11/site-packages (from requests<3,>=2.21.0->tensorboard<2.15,>=2.14->tensorflow-macos==2.14.0->tensorflow) (2023.7.22)\n",
      "Requirement already satisfied: MarkupSafe>=2.1.1 in /Users/sabinoprog/anaconda3/lib/python3.11/site-packages (from werkzeug>=1.0.1->tensorboard<2.15,>=2.14->tensorflow-macos==2.14.0->tensorflow) (2.1.1)\n",
      "Requirement already satisfied: pyasn1<0.5.0,>=0.4.6 in /Users/sabinoprog/anaconda3/lib/python3.11/site-packages (from pyasn1-modules>=0.2.1->google-auth<3,>=1.6.3->tensorboard<2.15,>=2.14->tensorflow-macos==2.14.0->tensorflow) (0.4.8)\n",
      "Requirement already satisfied: oauthlib>=3.0.0 in /Users/sabinoprog/anaconda3/lib/python3.11/site-packages (from requests-oauthlib>=0.7.0->google-auth-oauthlib<1.1,>=0.5->tensorboard<2.15,>=2.14->tensorflow-macos==2.14.0->tensorflow) (3.2.2)\n"
     ]
    }
   ],
   "source": [
    "!pip install tensorflow"
   ]
  },
  {
   "cell_type": "code",
   "execution_count": 14,
   "metadata": {},
   "outputs": [
    {
     "name": "stdout",
     "output_type": "stream",
     "text": [
      "Requirement already satisfied: scipy in /Users/sabinoprog/anaconda3/lib/python3.11/site-packages (1.11.1)\r\n",
      "Requirement already satisfied: numpy<1.28.0,>=1.21.6 in /Users/sabinoprog/anaconda3/lib/python3.11/site-packages (from scipy) (1.24.3)\r\n"
     ]
    }
   ],
   "source": [
    "!pip install scipy"
   ]
  },
  {
   "cell_type": "code",
   "execution_count": 1,
   "metadata": {},
   "outputs": [],
   "source": [
    "import tensorflow as tf\n",
    "import scipy, numpy\n",
    "\n",
    "from tensorflow.keras.preprocessing.image import ImageDataGenerator\n",
    "from tensorflow.keras.models import Sequential\n",
    "from tensorflow.keras.layers import Conv2D, MaxPooling2D, Flatten, Dense, Dropout"
   ]
  },
  {
   "cell_type": "code",
   "execution_count": 2,
   "metadata": {},
   "outputs": [],
   "source": [
    "# Caminhos para as pastas de dados\n",
    "train_data_dir = './data'\n",
    "batch_size = 32 # ***\n",
    "image_size = (150, 150)\n",
    "num_epochs = 50\n",
    "num_classes = 2"
   ]
  },
  {
   "cell_type": "code",
   "execution_count": 3,
   "metadata": {},
   "outputs": [],
   "source": [
    "# Crie geradores de dados de treinamento\n",
    "train_datagen = ImageDataGenerator(\n",
    "    rescale=1.0 / 255, # Normalização das imagens\n",
    "    validation_split=0.25,  # Define a divisão de validação\n",
    "    shear_range=0.2,\n",
    "    zoom_range=0.2,\n",
    "    horizontal_flip=True)    "
   ]
  },
  {
   "cell_type": "code",
   "execution_count": 4,
   "metadata": {},
   "outputs": [
    {
     "name": "stdout",
     "output_type": "stream",
     "text": [
      "Found 50 images belonging to 2 classes.\n"
     ]
    }
   ],
   "source": [
    "train_generator = train_datagen.flow_from_directory(\n",
    "    train_data_dir,\n",
    "    target_size=image_size,\n",
    "    batch_size=batch_size,\n",
    "    class_mode='binary',\n",
    "    subset='training'\n",
    ")"
   ]
  },
  {
   "cell_type": "code",
   "execution_count": 5,
   "metadata": {},
   "outputs": [
    {
     "name": "stdout",
     "output_type": "stream",
     "text": [
      "Found 15 images belonging to 2 classes.\n"
     ]
    }
   ],
   "source": [
    "validation_generator = train_datagen.flow_from_directory(\n",
    "    train_data_dir,\n",
    "    target_size=image_size,\n",
    "    batch_size=batch_size,\n",
    "    class_mode='binary',\n",
    "    subset='validation'\n",
    ")"
   ]
  },
  {
   "cell_type": "code",
   "execution_count": 6,
   "metadata": {},
   "outputs": [],
   "source": [
    "model = Sequential()\n",
    "model.add(Conv2D(32, (3, 3), input_shape=(image_size[0], image_size[1], 3), activation='relu'))\n",
    "model.add(MaxPooling2D(pool_size=(2, 2)))\n",
    "model.add(Conv2D(64, (3, 3), activation='relu'))\n",
    "model.add(MaxPooling2D(pool_size=(2, 2)))\n",
    "model.add(Flatten())\n",
    "model.add(Dense(64, activation='relu'))\n",
    "model.add(Dropout(0.5))\n",
    "model.add(Dense(1, activation='sigmoid'))  # Camada de saída com 1 unidade para classificação binária"
   ]
  },
  {
   "cell_type": "code",
   "execution_count": 7,
   "metadata": {},
   "outputs": [],
   "source": [
    "# Compile o modelo\n",
    "model.compile(loss='binary_crossentropy',\n",
    "              optimizer='adam',\n",
    "              metrics=['accuracy'])"
   ]
  },
  {
   "cell_type": "code",
   "execution_count": 8,
   "metadata": {},
   "outputs": [
    {
     "name": "stdout",
     "output_type": "stream",
     "text": [
      "Epoch 1/50\n",
      "2/2 [==============================] - 1s 523ms/step - loss: 1.6271 - accuracy: 0.5000 - val_loss: 5.6468 - val_accuracy: 0.5333\n",
      "Epoch 2/50\n",
      "2/2 [==============================] - 1s 528ms/step - loss: 3.7931 - accuracy: 0.5200 - val_loss: 1.2405 - val_accuracy: 0.5333\n",
      "Epoch 3/50\n",
      "2/2 [==============================] - 1s 339ms/step - loss: 1.4460 - accuracy: 0.5000 - val_loss: 0.7525 - val_accuracy: 0.5333\n",
      "Epoch 4/50\n",
      "2/2 [==============================] - 1s 479ms/step - loss: 0.9228 - accuracy: 0.4800 - val_loss: 0.5990 - val_accuracy: 0.6000\n",
      "Epoch 5/50\n",
      "2/2 [==============================] - 1s 357ms/step - loss: 0.6888 - accuracy: 0.5800 - val_loss: 0.6113 - val_accuracy: 0.5333\n",
      "Epoch 6/50\n",
      "2/2 [==============================] - 1s 446ms/step - loss: 0.6334 - accuracy: 0.5400 - val_loss: 0.5080 - val_accuracy: 0.5333\n",
      "Epoch 7/50\n",
      "2/2 [==============================] - 1s 354ms/step - loss: 0.5627 - accuracy: 0.5600 - val_loss: 0.4876 - val_accuracy: 0.5333\n",
      "Epoch 8/50\n",
      "2/2 [==============================] - 1s 454ms/step - loss: 0.5592 - accuracy: 0.6800 - val_loss: 0.4339 - val_accuracy: 0.8667\n",
      "Epoch 9/50\n",
      "2/2 [==============================] - 1s 356ms/step - loss: 0.5497 - accuracy: 0.8000 - val_loss: 0.4374 - val_accuracy: 0.9333\n",
      "Epoch 10/50\n",
      "2/2 [==============================] - 1s 349ms/step - loss: 0.5257 - accuracy: 0.9000 - val_loss: 0.4190 - val_accuracy: 0.9333\n",
      "Epoch 11/50\n",
      "2/2 [==============================] - 1s 364ms/step - loss: 0.5458 - accuracy: 0.7800 - val_loss: 0.3597 - val_accuracy: 0.9333\n",
      "Epoch 12/50\n",
      "2/2 [==============================] - 1s 368ms/step - loss: 0.4879 - accuracy: 0.7800 - val_loss: 0.3490 - val_accuracy: 0.8000\n",
      "Epoch 13/50\n",
      "2/2 [==============================] - 1s 376ms/step - loss: 0.4722 - accuracy: 0.7400 - val_loss: 0.2489 - val_accuracy: 0.9333\n",
      "Epoch 14/50\n",
      "2/2 [==============================] - 1s 356ms/step - loss: 0.4440 - accuracy: 0.7400 - val_loss: 0.5555 - val_accuracy: 0.8667\n",
      "Epoch 15/50\n",
      "2/2 [==============================] - 1s 451ms/step - loss: 0.4201 - accuracy: 0.8000 - val_loss: 0.4272 - val_accuracy: 0.9333\n",
      "Epoch 16/50\n",
      "2/2 [==============================] - 1s 379ms/step - loss: 0.3979 - accuracy: 0.8600 - val_loss: 0.1989 - val_accuracy: 1.0000\n",
      "Epoch 17/50\n",
      "2/2 [==============================] - 1s 496ms/step - loss: 0.4060 - accuracy: 0.7800 - val_loss: 0.3269 - val_accuracy: 0.8667\n",
      "Epoch 18/50\n",
      "2/2 [==============================] - 1s 437ms/step - loss: 0.3959 - accuracy: 0.8200 - val_loss: 0.3646 - val_accuracy: 0.8667\n",
      "Epoch 19/50\n",
      "2/2 [==============================] - 1s 448ms/step - loss: 0.3861 - accuracy: 0.8000 - val_loss: 0.3444 - val_accuracy: 0.8667\n",
      "Epoch 20/50\n",
      "2/2 [==============================] - 1s 499ms/step - loss: 0.3659 - accuracy: 0.8400 - val_loss: 0.3494 - val_accuracy: 0.8000\n",
      "Epoch 21/50\n",
      "2/2 [==============================] - 1s 396ms/step - loss: 0.3187 - accuracy: 0.8800 - val_loss: 0.3517 - val_accuracy: 0.7333\n",
      "Epoch 22/50\n",
      "2/2 [==============================] - 1s 475ms/step - loss: 0.5145 - accuracy: 0.7400 - val_loss: 0.2818 - val_accuracy: 0.9333\n",
      "Epoch 23/50\n",
      "2/2 [==============================] - 1s 490ms/step - loss: 0.3252 - accuracy: 0.8200 - val_loss: 0.2066 - val_accuracy: 1.0000\n",
      "Epoch 24/50\n",
      "2/2 [==============================] - 1s 375ms/step - loss: 0.2979 - accuracy: 0.9000 - val_loss: 0.2623 - val_accuracy: 0.9333\n",
      "Epoch 25/50\n",
      "2/2 [==============================] - 1s 474ms/step - loss: 0.2578 - accuracy: 0.9000 - val_loss: 0.4187 - val_accuracy: 0.7333\n",
      "Epoch 26/50\n",
      "2/2 [==============================] - 1s 483ms/step - loss: 0.6159 - accuracy: 0.7200 - val_loss: 0.2200 - val_accuracy: 0.9333\n",
      "Epoch 27/50\n",
      "2/2 [==============================] - 1s 435ms/step - loss: 0.2782 - accuracy: 0.9000 - val_loss: 0.2749 - val_accuracy: 0.8000\n",
      "Epoch 28/50\n",
      "2/2 [==============================] - 1s 357ms/step - loss: 0.3671 - accuracy: 0.8400 - val_loss: 0.1550 - val_accuracy: 1.0000\n",
      "Epoch 29/50\n",
      "2/2 [==============================] - 1s 481ms/step - loss: 0.2602 - accuracy: 0.9400 - val_loss: 0.3017 - val_accuracy: 0.8000\n",
      "Epoch 30/50\n",
      "2/2 [==============================] - 1s 482ms/step - loss: 0.2920 - accuracy: 0.8200 - val_loss: 0.4095 - val_accuracy: 0.8667\n",
      "Epoch 31/50\n",
      "2/2 [==============================] - 1s 371ms/step - loss: 0.2380 - accuracy: 0.9000 - val_loss: 0.2393 - val_accuracy: 0.8667\n",
      "Epoch 32/50\n",
      "2/2 [==============================] - 1s 403ms/step - loss: 0.1871 - accuracy: 0.9800 - val_loss: 0.2551 - val_accuracy: 0.9333\n",
      "Epoch 33/50\n",
      "2/2 [==============================] - 1s 375ms/step - loss: 0.2799 - accuracy: 0.8600 - val_loss: 0.2307 - val_accuracy: 0.9333\n",
      "Epoch 34/50\n",
      "2/2 [==============================] - 1s 535ms/step - loss: 0.2028 - accuracy: 0.9000 - val_loss: 0.4005 - val_accuracy: 0.7333\n",
      "Epoch 35/50\n",
      "2/2 [==============================] - 1s 385ms/step - loss: 0.3089 - accuracy: 0.8400 - val_loss: 0.2399 - val_accuracy: 0.9333\n",
      "Epoch 36/50\n",
      "2/2 [==============================] - 1s 727ms/step - loss: 0.2079 - accuracy: 0.9600 - val_loss: 0.1976 - val_accuracy: 0.9333\n",
      "Epoch 37/50\n",
      "2/2 [==============================] - 1s 547ms/step - loss: 0.1971 - accuracy: 0.9600 - val_loss: 0.4065 - val_accuracy: 0.6667\n",
      "Epoch 38/50\n",
      "2/2 [==============================] - 1s 561ms/step - loss: 0.1920 - accuracy: 0.9000 - val_loss: 0.4841 - val_accuracy: 0.8000\n",
      "Epoch 39/50\n",
      "2/2 [==============================] - 1s 389ms/step - loss: 0.2471 - accuracy: 0.9000 - val_loss: 0.2649 - val_accuracy: 0.8667\n",
      "Epoch 40/50\n",
      "2/2 [==============================] - 1s 412ms/step - loss: 0.2004 - accuracy: 0.9400 - val_loss: 0.2062 - val_accuracy: 0.9333\n",
      "Epoch 41/50\n",
      "2/2 [==============================] - 1s 409ms/step - loss: 0.2043 - accuracy: 0.9400 - val_loss: 0.3738 - val_accuracy: 0.8000\n",
      "Epoch 42/50\n",
      "2/2 [==============================] - 1s 542ms/step - loss: 0.1637 - accuracy: 0.9600 - val_loss: 0.5578 - val_accuracy: 0.8000\n",
      "Epoch 43/50\n",
      "2/2 [==============================] - 1s 463ms/step - loss: 0.1552 - accuracy: 0.9400 - val_loss: 0.4913 - val_accuracy: 0.7333\n",
      "Epoch 44/50\n",
      "2/2 [==============================] - 1s 456ms/step - loss: 0.1433 - accuracy: 0.9600 - val_loss: 0.3010 - val_accuracy: 0.9333\n",
      "Epoch 45/50\n",
      "2/2 [==============================] - 1s 358ms/step - loss: 0.1100 - accuracy: 0.9800 - val_loss: 0.2376 - val_accuracy: 0.9333\n",
      "Epoch 46/50\n",
      "2/2 [==============================] - 1s 455ms/step - loss: 0.1671 - accuracy: 0.9200 - val_loss: 0.1813 - val_accuracy: 0.9333\n",
      "Epoch 47/50\n",
      "2/2 [==============================] - 1s 415ms/step - loss: 0.1578 - accuracy: 0.9400 - val_loss: 0.3387 - val_accuracy: 0.8667\n",
      "Epoch 48/50\n",
      "2/2 [==============================] - 1s 521ms/step - loss: 0.1678 - accuracy: 0.9600 - val_loss: 0.3568 - val_accuracy: 0.8667\n",
      "Epoch 49/50\n",
      "2/2 [==============================] - 1s 491ms/step - loss: 0.0963 - accuracy: 0.9800 - val_loss: 0.2077 - val_accuracy: 0.8667\n",
      "Epoch 50/50\n",
      "2/2 [==============================] - 1s 574ms/step - loss: 0.1845 - accuracy: 0.9400 - val_loss: 0.1189 - val_accuracy: 1.0000\n",
      "Modelo salvo com sucesso!\n"
     ]
    },
    {
     "name": "stderr",
     "output_type": "stream",
     "text": [
      "/Users/sabinoprog/anaconda3/lib/python3.11/site-packages/keras/src/engine/training.py:3079: UserWarning: You are saving your model as an HDF5 file via `model.save()`. This file format is considered legacy. We recommend using instead the native Keras format, e.g. `model.save('my_model.keras')`.\n",
      "  saving_api.save_model(\n"
     ]
    }
   ],
   "source": [
    "# Treine o modelo\n",
    "model.fit(\n",
    "    train_generator,\n",
    "    epochs=num_epochs,\n",
    "    validation_data=validation_generator)\n",
    "\n",
    "# Salve o modelo treinados\n",
    "model.save('./models/cfModeloArthurSabino.h5')\n",
    "\n",
    "print('Modelo salvo com sucesso!')"
   ]
  },
  {
   "cell_type": "code",
   "execution_count": null,
   "metadata": {},
   "outputs": [],
   "source": []
  }
 ],
 "metadata": {
  "kernelspec": {
   "display_name": "Python 3 (ipykernel)",
   "language": "python",
   "name": "python3"
  },
  "language_info": {
   "codemirror_mode": {
    "name": "ipython",
    "version": 3
   },
   "file_extension": ".py",
   "mimetype": "text/x-python",
   "name": "python",
   "nbconvert_exporter": "python",
   "pygments_lexer": "ipython3",
   "version": "3.11.5"
  }
 },
 "nbformat": 4,
 "nbformat_minor": 2
}
