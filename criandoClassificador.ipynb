{
 "cells": [
  {
   "cell_type": "code",
   "execution_count": 3,
   "metadata": {},
   "outputs": [
    {
     "name": "stdout",
     "output_type": "stream",
     "text": [
      "WARNING:tensorflow:From C:\\Users\\Gerson\\AppData\\Roaming\\Python\\Python310\\site-packages\\keras\\src\\losses.py:2976: The name tf.losses.sparse_softmax_cross_entropy is deprecated. Please use tf.compat.v1.losses.sparse_softmax_cross_entropy instead.\n",
      "\n"
     ]
    }
   ],
   "source": [
    "import tensorflow as tf\n",
    "import scipy, numpy\n",
    "\n",
    "from tensorflow.keras.preprocessing.image import ImageDataGenerator\n",
    "from tensorflow.keras.models import Sequential\n",
    "from tensorflow.keras.layers import Conv2D, MaxPooling2D, Flatten, Dense, Dropout"
   ]
  },
  {
   "cell_type": "code",
   "execution_count": 4,
   "metadata": {},
   "outputs": [],
   "source": [
    "# Configurações para o treinamento\n",
    "train_data_dir = './data'\n",
    "batch_size = 32 # 32 imagens por lote\n",
    "num_epochs = 50 # 50 épocas de treinamento\n",
    "image_size = (150, 150) # 150x150 pixels\n",
    "num_classes = 2 # 2 classes: porco e gato"
   ]
  },
  {
   "cell_type": "code",
   "execution_count": 5,
   "metadata": {},
   "outputs": [],
   "source": [
    "train_datagen = ImageDataGenerator(\n",
    "    rescale = 1.0/255,\n",
    "    validation_split = 0.25, # 25% para validação\n",
    "    shear_range = 0.2, # inclinação\n",
    "    zoom_range = 0.2, # zoom\n",
    "    horizontal_flip = True # espelhamento horizontal\n",
    ")"
   ]
  },
  {
   "cell_type": "code",
   "execution_count": 6,
   "metadata": {},
   "outputs": [
    {
     "name": "stdout",
     "output_type": "stream",
     "text": [
      "Found 16 images belonging to 2 classes.\n"
     ]
    }
   ],
   "source": [
    "train_generator = train_datagen.flow_from_directory(\n",
    "    train_data_dir,\n",
    "    target_size = image_size,\n",
    "    batch_size = batch_size,\n",
    "    class_mode = 'binary',\n",
    "    subset = 'training'\n",
    ")"
   ]
  },
  {
   "cell_type": "code",
   "execution_count": 7,
   "metadata": {},
   "outputs": [
    {
     "name": "stdout",
     "output_type": "stream",
     "text": [
      "Found 4 images belonging to 2 classes.\n"
     ]
    }
   ],
   "source": [
    "validation_generator = train_datagen.flow_from_directory(\n",
    "    train_data_dir,\n",
    "    target_size = image_size,\n",
    "    batch_size = batch_size,\n",
    "    class_mode = 'binary',\n",
    "    subset = 'validation'\n",
    ")"
   ]
  },
  {
   "cell_type": "code",
   "execution_count": 8,
   "metadata": {},
   "outputs": [
    {
     "name": "stdout",
     "output_type": "stream",
     "text": [
      "WARNING:tensorflow:From C:\\Users\\Gerson\\AppData\\Roaming\\Python\\Python310\\site-packages\\keras\\src\\backend.py:873: The name tf.get_default_graph is deprecated. Please use tf.compat.v1.get_default_graph instead.\n",
      "\n",
      "WARNING:tensorflow:From C:\\Users\\Gerson\\AppData\\Roaming\\Python\\Python310\\site-packages\\keras\\src\\layers\\pooling\\max_pooling2d.py:161: The name tf.nn.max_pool is deprecated. Please use tf.nn.max_pool2d instead.\n",
      "\n"
     ]
    }
   ],
   "source": [
    "model = Sequential() # instanciando o modelo\n",
    "model.add(Conv2D(32, (3,3), input_shape=(image_size[0], image_size[1], 3), activation='relu')) # camada de convolução\n",
    "model.add(MaxPooling2D(pool_size=(2,2))) # camada de pooling\n",
    "model.add(Conv2D(64, (3,3), activation='relu')) # camada de convolução\n",
    "model.add(MaxPooling2D(pool_size=(2,2))) # camada de pooling\n",
    "model.add(Flatten()) # camada de achatamento ou vetorização\n",
    "model.add(Dense(64, activation='relu')) # neurônios\n",
    "model.add(Dropout(0.5)) # regularização 50% chance de desligar neurônios\n",
    "model.add(Dense(1, activation='sigmoid')) # camada de saída (classificação binária)"
   ]
  },
  {
   "cell_type": "code",
   "execution_count": 9,
   "metadata": {},
   "outputs": [
    {
     "name": "stdout",
     "output_type": "stream",
     "text": [
      "WARNING:tensorflow:From C:\\Users\\Gerson\\AppData\\Roaming\\Python\\Python310\\site-packages\\keras\\src\\optimizers\\__init__.py:309: The name tf.train.Optimizer is deprecated. Please use tf.compat.v1.train.Optimizer instead.\n",
      "\n"
     ]
    }
   ],
   "source": [
    "# compilar o modelo\n",
    "model.compile(\n",
    "    optimizer = 'adam',\n",
    "    loss = 'binary_crossentropy', # mais próximo de 0 melhor, 0.002 por exemplo\n",
    "    metrics = ['accuracy']\n",
    ")"
   ]
  },
  {
   "cell_type": "code",
   "execution_count": 11,
   "metadata": {},
   "outputs": [
    {
     "name": "stdout",
     "output_type": "stream",
     "text": [
      "Epoch 1/50\n",
      "1/1 [==============================] - 0s 339ms/step - loss: 0.0100 - accuracy: 1.0000 - val_loss: 0.0914 - val_accuracy: 1.0000\n",
      "Epoch 2/50\n",
      "1/1 [==============================] - 0s 296ms/step - loss: 0.0182 - accuracy: 1.0000 - val_loss: 0.0334 - val_accuracy: 1.0000\n",
      "Epoch 3/50\n",
      "1/1 [==============================] - 0s 287ms/step - loss: 0.0227 - accuracy: 1.0000 - val_loss: 0.0457 - val_accuracy: 1.0000\n",
      "Epoch 4/50\n",
      "1/1 [==============================] - 0s 287ms/step - loss: 0.0247 - accuracy: 1.0000 - val_loss: 0.2934 - val_accuracy: 0.7500\n",
      "Epoch 5/50\n",
      "1/1 [==============================] - 0s 292ms/step - loss: 0.0175 - accuracy: 1.0000 - val_loss: 0.0359 - val_accuracy: 1.0000\n",
      "Epoch 6/50\n",
      "1/1 [==============================] - 0s 281ms/step - loss: 0.0030 - accuracy: 1.0000 - val_loss: 0.0173 - val_accuracy: 1.0000\n",
      "Epoch 7/50\n",
      "1/1 [==============================] - 0s 289ms/step - loss: 0.0108 - accuracy: 1.0000 - val_loss: 0.0450 - val_accuracy: 1.0000\n",
      "Epoch 8/50\n",
      "1/1 [==============================] - 0s 333ms/step - loss: 0.0081 - accuracy: 1.0000 - val_loss: 0.0909 - val_accuracy: 1.0000\n",
      "Epoch 9/50\n",
      "1/1 [==============================] - 0s 293ms/step - loss: 0.0172 - accuracy: 1.0000 - val_loss: 0.0337 - val_accuracy: 1.0000\n",
      "Epoch 10/50\n",
      "1/1 [==============================] - 0s 287ms/step - loss: 0.0034 - accuracy: 1.0000 - val_loss: 0.0826 - val_accuracy: 1.0000\n",
      "Epoch 11/50\n",
      "1/1 [==============================] - 0s 313ms/step - loss: 0.0159 - accuracy: 1.0000 - val_loss: 0.0023 - val_accuracy: 1.0000\n",
      "Epoch 12/50\n",
      "1/1 [==============================] - 0s 282ms/step - loss: 0.0044 - accuracy: 1.0000 - val_loss: 0.0044 - val_accuracy: 1.0000\n",
      "Epoch 13/50\n",
      "1/1 [==============================] - 0s 286ms/step - loss: 0.0011 - accuracy: 1.0000 - val_loss: 0.0079 - val_accuracy: 1.0000\n",
      "Epoch 14/50\n",
      "1/1 [==============================] - 0s 284ms/step - loss: 3.9241e-04 - accuracy: 1.0000 - val_loss: 0.0648 - val_accuracy: 1.0000\n",
      "Epoch 15/50\n",
      "1/1 [==============================] - 0s 309ms/step - loss: 2.8204e-04 - accuracy: 1.0000 - val_loss: 0.0362 - val_accuracy: 1.0000\n",
      "Epoch 16/50\n",
      "1/1 [==============================] - 0s 286ms/step - loss: 2.9509e-04 - accuracy: 1.0000 - val_loss: 0.2234 - val_accuracy: 0.7500\n",
      "Epoch 17/50\n",
      "1/1 [==============================] - 0s 333ms/step - loss: 0.0011 - accuracy: 1.0000 - val_loss: 0.2976 - val_accuracy: 0.7500\n",
      "Epoch 18/50\n",
      "1/1 [==============================] - 0s 313ms/step - loss: 0.0015 - accuracy: 1.0000 - val_loss: 0.4785 - val_accuracy: 0.7500\n",
      "Epoch 19/50\n",
      "1/1 [==============================] - 0s 287ms/step - loss: 1.7103e-04 - accuracy: 1.0000 - val_loss: 0.0849 - val_accuracy: 1.0000\n",
      "Epoch 20/50\n",
      "1/1 [==============================] - 0s 280ms/step - loss: 6.9080e-04 - accuracy: 1.0000 - val_loss: 0.1697 - val_accuracy: 1.0000\n",
      "Epoch 21/50\n",
      "1/1 [==============================] - 0s 288ms/step - loss: 0.0018 - accuracy: 1.0000 - val_loss: 0.2328 - val_accuracy: 0.7500\n",
      "Epoch 22/50\n",
      "1/1 [==============================] - 0s 289ms/step - loss: 5.5875e-04 - accuracy: 1.0000 - val_loss: 0.1151 - val_accuracy: 1.0000\n",
      "Epoch 23/50\n",
      "1/1 [==============================] - 0s 293ms/step - loss: 0.0122 - accuracy: 1.0000 - val_loss: 0.0739 - val_accuracy: 1.0000\n",
      "Epoch 24/50\n",
      "1/1 [==============================] - 0s 292ms/step - loss: 0.0070 - accuracy: 1.0000 - val_loss: 0.1450 - val_accuracy: 1.0000\n",
      "Epoch 25/50\n",
      "1/1 [==============================] - 0s 297ms/step - loss: 0.0189 - accuracy: 1.0000 - val_loss: 0.5410 - val_accuracy: 0.7500\n",
      "Epoch 26/50\n",
      "1/1 [==============================] - 0s 281ms/step - loss: 4.8231e-04 - accuracy: 1.0000 - val_loss: 0.2826 - val_accuracy: 0.7500\n",
      "Epoch 27/50\n",
      "1/1 [==============================] - 0s 337ms/step - loss: 0.0051 - accuracy: 1.0000 - val_loss: 0.7137 - val_accuracy: 0.7500\n",
      "Epoch 28/50\n",
      "1/1 [==============================] - 0s 283ms/step - loss: 0.0380 - accuracy: 1.0000 - val_loss: 0.2026 - val_accuracy: 0.7500\n",
      "Epoch 29/50\n",
      "1/1 [==============================] - 0s 287ms/step - loss: 2.1240e-04 - accuracy: 1.0000 - val_loss: 0.0441 - val_accuracy: 1.0000\n",
      "Epoch 30/50\n",
      "1/1 [==============================] - 0s 281ms/step - loss: 2.8913e-04 - accuracy: 1.0000 - val_loss: 0.2131 - val_accuracy: 0.7500\n",
      "Epoch 31/50\n",
      "1/1 [==============================] - 0s 292ms/step - loss: 0.0042 - accuracy: 1.0000 - val_loss: 0.0489 - val_accuracy: 1.0000\n",
      "Epoch 32/50\n",
      "1/1 [==============================] - 0s 276ms/step - loss: 0.0073 - accuracy: 1.0000 - val_loss: 0.0194 - val_accuracy: 1.0000\n",
      "Epoch 33/50\n",
      "1/1 [==============================] - 0s 281ms/step - loss: 6.6897e-04 - accuracy: 1.0000 - val_loss: 0.0350 - val_accuracy: 1.0000\n",
      "Epoch 34/50\n",
      "1/1 [==============================] - 0s 282ms/step - loss: 6.8427e-04 - accuracy: 1.0000 - val_loss: 0.0457 - val_accuracy: 1.0000\n",
      "Epoch 35/50\n",
      "1/1 [==============================] - 0s 281ms/step - loss: 2.9304e-04 - accuracy: 1.0000 - val_loss: 0.0500 - val_accuracy: 1.0000\n",
      "Epoch 36/50\n",
      "1/1 [==============================] - 0s 283ms/step - loss: 0.2694 - accuracy: 0.9375 - val_loss: 0.1030 - val_accuracy: 1.0000\n",
      "Epoch 37/50\n",
      "1/1 [==============================] - 0s 291ms/step - loss: 2.7863e-04 - accuracy: 1.0000 - val_loss: 1.0348 - val_accuracy: 0.7500\n",
      "Epoch 38/50\n",
      "1/1 [==============================] - 0s 279ms/step - loss: 0.0073 - accuracy: 1.0000 - val_loss: 1.2949 - val_accuracy: 0.7500\n",
      "Epoch 39/50\n",
      "1/1 [==============================] - 0s 289ms/step - loss: 0.0888 - accuracy: 0.9375 - val_loss: 0.8409 - val_accuracy: 0.7500\n",
      "Epoch 40/50\n",
      "1/1 [==============================] - 0s 288ms/step - loss: 0.0192 - accuracy: 1.0000 - val_loss: 0.7651 - val_accuracy: 0.7500\n",
      "Epoch 41/50\n",
      "1/1 [==============================] - 0s 305ms/step - loss: 0.0469 - accuracy: 1.0000 - val_loss: 0.4899 - val_accuracy: 0.7500\n",
      "Epoch 42/50\n",
      "1/1 [==============================] - 0s 303ms/step - loss: 0.0462 - accuracy: 1.0000 - val_loss: 0.3391 - val_accuracy: 0.7500\n",
      "Epoch 43/50\n",
      "1/1 [==============================] - 0s 282ms/step - loss: 0.0110 - accuracy: 1.0000 - val_loss: 0.1868 - val_accuracy: 0.7500\n",
      "Epoch 44/50\n",
      "1/1 [==============================] - 0s 280ms/step - loss: 0.0257 - accuracy: 1.0000 - val_loss: 0.0433 - val_accuracy: 1.0000\n",
      "Epoch 45/50\n",
      "1/1 [==============================] - 0s 290ms/step - loss: 0.0248 - accuracy: 1.0000 - val_loss: 0.0738 - val_accuracy: 1.0000\n",
      "Epoch 46/50\n",
      "1/1 [==============================] - 0s 291ms/step - loss: 0.0114 - accuracy: 1.0000 - val_loss: 0.0197 - val_accuracy: 1.0000\n",
      "Epoch 47/50\n",
      "1/1 [==============================] - 0s 334ms/step - loss: 0.0068 - accuracy: 1.0000 - val_loss: 0.3687 - val_accuracy: 0.7500\n",
      "Epoch 48/50\n",
      "1/1 [==============================] - 0s 289ms/step - loss: 0.0580 - accuracy: 1.0000 - val_loss: 0.0940 - val_accuracy: 1.0000\n",
      "Epoch 49/50\n",
      "1/1 [==============================] - 0s 288ms/step - loss: 0.0202 - accuracy: 1.0000 - val_loss: 0.1795 - val_accuracy: 0.7500\n",
      "Epoch 50/50\n",
      "1/1 [==============================] - 0s 294ms/step - loss: 0.0055 - accuracy: 1.0000 - val_loss: 0.1000 - val_accuracy: 1.0000\n",
      "Treinamento concluído!\n"
     ]
    },
    {
     "name": "stderr",
     "output_type": "stream",
     "text": [
      "C:\\Users\\Gerson\\AppData\\Roaming\\Python\\Python310\\site-packages\\keras\\src\\engine\\training.py:3103: UserWarning: You are saving your model as an HDF5 file via `model.save()`. This file format is considered legacy. We recommend using instead the native Keras format, e.g. `model.save('my_model.keras')`.\n",
      "  saving_api.save_model(\n"
     ]
    }
   ],
   "source": [
    "# treinamento\n",
    "model.fit(\n",
    "    train_generator,\n",
    "    epochs = num_epochs,\n",
    "    validation_data = validation_generator\n",
    ")\n",
    "\n",
    "print('Treinamento concluído!')\n",
    "\n",
    "# salvar o modelo\n",
    "model.save('models/cfModeloGersonRamos.h5')"
   ]
  }
 ],
 "metadata": {
  "kernelspec": {
   "display_name": "base",
   "language": "python",
   "name": "python3"
  },
  "language_info": {
   "codemirror_mode": {
    "name": "ipython",
    "version": 3
   },
   "file_extension": ".py",
   "mimetype": "text/x-python",
   "name": "python",
   "nbconvert_exporter": "python",
   "pygments_lexer": "ipython3",
   "version": "3.10.2"
  }
 },
 "nbformat": 4,
 "nbformat_minor": 2
}
